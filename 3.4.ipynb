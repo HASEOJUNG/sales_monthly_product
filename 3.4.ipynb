{
 "cells": [
  {
   "cell_type": "code",
   "id": "initial_id",
   "metadata": {
    "collapsed": true,
    "ExecuteTime": {
     "end_time": "2024-07-15T13:20:35.386736Z",
     "start_time": "2024-07-15T13:20:35.327187Z"
    }
   },
   "source": [
    "import pandas as pd\n",
    "import matplotlib.pyplot as plt"
   ],
   "outputs": [],
   "execution_count": 1
  },
  {
   "metadata": {
    "ExecuteTime": {
     "end_time": "2024-07-15T13:20:48.284775Z",
     "start_time": "2024-07-15T13:20:48.271097Z"
    }
   },
   "cell_type": "code",
   "source": [
    "# 한글 글꼴 설정\n",
    "plt.rcParams['font.family'] ='NanumGothic'\n",
    "plt.rcParams['axes.unicode_minus'] =False"
   ],
   "id": "e901a4dbf7e846e0",
   "outputs": [],
   "execution_count": 2
  },
  {
   "metadata": {
    "ExecuteTime": {
     "end_time": "2024-07-15T13:20:59.566432Z",
     "start_time": "2024-07-15T13:20:58.549912Z"
    }
   },
   "cell_type": "code",
   "source": [
    "# 데이터 로드\n",
    "sales_data = pd.read_csv('./csv/sales.csv')\n",
    "brand_keyword_data = pd.read_csv('./csv/brand_keyword_cnt.csv')\n",
    "product_info = pd.read_csv('./csv/product_info.csv')\n",
    "train_data = pd.read_csv('./csv/train.csv')\n",
    "\n",
    "sales_data.head(), brand_keyword_data.head(), product_info.head(), train_data.head()"
   ],
   "id": "2d86b6f4065cb7fa",
   "outputs": [
    {
     "data": {
      "text/plain": [
       "(   ID                제품             대분류             중분류             소분류  \\\n",
       " 0   0  B002-00001-00001  B002-C001-0002  B002-C002-0007  B002-C003-0038   \n",
       " 1   1  B002-00002-00001  B002-C001-0003  B002-C002-0008  B002-C003-0044   \n",
       " 2   2  B002-00002-00002  B002-C001-0003  B002-C002-0008  B002-C003-0044   \n",
       " 3   3  B002-00002-00003  B002-C001-0003  B002-C002-0008  B002-C003-0044   \n",
       " 4   4  B002-00003-00001  B002-C001-0001  B002-C002-0001  B002-C003-0003   \n",
       " \n",
       "           브랜드  2022-01-01  2022-01-02  2022-01-03  2022-01-04  ...  \\\n",
       " 0  B002-00001           0           0           0           0  ...   \n",
       " 1  B002-00002           0           0           0           0  ...   \n",
       " 2  B002-00002           0           0           0           0  ...   \n",
       " 3  B002-00002           0           0           0           0  ...   \n",
       " 4  B002-00003           0           0           0           0  ...   \n",
       " \n",
       "    2023-03-26  2023-03-27  2023-03-28  2023-03-29  2023-03-30  2023-03-31  \\\n",
       " 0           0           0           0           0           0           0   \n",
       " 1           0           0           0       22400       67200       44800   \n",
       " 2           0           0           0           0           0           0   \n",
       " 3           0           0           0           0           0           0   \n",
       " 4           0           0           0           0           0           0   \n",
       " \n",
       "    2023-04-01  2023-04-02  2023-04-03  2023-04-04  \n",
       " 0           0           0           0           0  \n",
       " 1           0           0       44800           0  \n",
       " 2           0           0           0           0  \n",
       " 3           0           0           0           0  \n",
       " 4           0           0           0           0  \n",
       " \n",
       " [5 rows x 465 columns],\n",
       "           브랜드  2022-01-01  2022-01-02  2022-01-03  2022-01-04  2022-01-05  \\\n",
       " 0  B002-00001     0.84131     0.91383    1.450530    2.422390    1.871190   \n",
       " 1  B002-00002    12.64868    20.27850   15.332170   12.750210   13.562510   \n",
       " 2  B002-00003     0.33362     0.43516    0.362630    0.174060    0.217580   \n",
       " 3  B002-00005     1.07339     1.71163    2.016240    1.914700    1.987230   \n",
       " 4  B002-00006     0.00000     0.00000    0.188558    0.246574    0.246574   \n",
       " \n",
       "    2022-01-06  2022-01-07  2022-01-08  2022-01-09  ...  2023-03-26  \\\n",
       " 0    1.581080    1.232950    1.174930    1.145920  ...    0.319110   \n",
       " 1   13.707570   11.937910   15.564250   14.084710  ...   10.269790   \n",
       " 2    0.464170    0.420650    0.290100    0.377130  ...    0.536690   \n",
       " 3    2.146790    1.682620    1.378000    1.421520  ...    2.219320   \n",
       " 4    0.246574    0.377139    0.087012    0.261084  ...    0.072526   \n",
       " \n",
       "    2023-03-27  2023-03-28  2023-03-29  2023-03-30  2023-03-31  2023-04-01  \\\n",
       " 0    0.391640    0.377130     0.49318    0.072520     0.29010     0.31911   \n",
       " 1   11.966920   10.646930    10.41485   10.487380     9.48651     9.28343   \n",
       " 2    0.696250    0.449660     0.39164    1.029880     0.49318     0.91383   \n",
       " 3    2.509420    2.872060     2.37888    2.030750     1.53756     1.34899   \n",
       " 4    0.290103    0.087012     0.00000    0.130542     0.00000     0.00000   \n",
       " \n",
       "    2023-04-02  2023-04-03  2023-04-04  \n",
       " 0    0.232080    0.333620     0.44966  \n",
       " 1   10.429350   11.154620    11.38671  \n",
       " 2    0.797790    1.015370     0.88482  \n",
       " 3    1.261960    2.320850     2.30635  \n",
       " 4    0.072526    0.217577     0.00000  \n",
       " \n",
       " [5 rows x 460 columns],\n",
       "                  제품                                               제품특성\n",
       " 0  B002-03509-00001  제품유형:일반식품 콜라겐 펩타이드:1000mg 종류:어류 분자량:300Da 섭취대상...\n",
       " 1  B002-02376-00001                                        700mg x 28정\n",
       " 2  B002-03735-00001  제품타입:정 섭취방법:물과 함께 섭취대상:성인남녀 섭취횟수:하루 두 번 1일 총 섭...\n",
       " 3  B002-03735-00003  제품타입:정 섭취방법:물과 함께 섭취대상:성인남녀 섭취횟수:하루 한 번 1일 총 섭...\n",
       " 4  B002-02769-00001  HCA:900mg 영양소 원료명(식약처고시):비타민B1 영양소 원료명(식약처고시):...,\n",
       "    ID                제품             대분류             중분류             소분류  \\\n",
       " 0   0  B002-00001-00001  B002-C001-0002  B002-C002-0007  B002-C003-0038   \n",
       " 1   1  B002-00002-00001  B002-C001-0003  B002-C002-0008  B002-C003-0044   \n",
       " 2   2  B002-00002-00002  B002-C001-0003  B002-C002-0008  B002-C003-0044   \n",
       " 3   3  B002-00002-00003  B002-C001-0003  B002-C002-0008  B002-C003-0044   \n",
       " 4   4  B002-00003-00001  B002-C001-0001  B002-C002-0001  B002-C003-0003   \n",
       " \n",
       "           브랜드  2022-01-01  2022-01-02  2022-01-03  2022-01-04  ...  \\\n",
       " 0  B002-00001           0           0           0           0  ...   \n",
       " 1  B002-00002           0           0           0           0  ...   \n",
       " 2  B002-00002           0           0           0           0  ...   \n",
       " 3  B002-00002           0           0           0           0  ...   \n",
       " 4  B002-00003           0           0           0           0  ...   \n",
       " \n",
       "    2023-03-26  2023-03-27  2023-03-28  2023-03-29  2023-03-30  2023-03-31  \\\n",
       " 0           0           0           0           0           0           0   \n",
       " 1           0           0           0           1           3           2   \n",
       " 2           0           0           0           0           0           0   \n",
       " 3           0           0           0           0           0           0   \n",
       " 4           0           0           0           0           0           0   \n",
       " \n",
       "    2023-04-01  2023-04-02  2023-04-03  2023-04-04  \n",
       " 0           0           0           0           0  \n",
       " 1           0           0           2           0  \n",
       " 2           0           0           0           0  \n",
       " 3           0           0           0           0  \n",
       " 4           0           0           0           0  \n",
       " \n",
       " [5 rows x 465 columns])"
      ]
     },
     "execution_count": 3,
     "metadata": {},
     "output_type": "execute_result"
    }
   ],
   "execution_count": 3
  },
  {
   "metadata": {
    "ExecuteTime": {
     "end_time": "2024-07-15T13:23:40.591234Z",
     "start_time": "2024-07-15T13:23:40.078512Z"
    }
   },
   "cell_type": "code",
   "source": [
    "sales_filtered = pd.read_csv('./csv/sales_filtered.csv')\n",
    "train_filtered = pd.read_csv('./csv/train_filtered.csv')"
   ],
   "id": "25cbbd56732c2eca",
   "outputs": [],
   "execution_count": 4
  },
  {
   "metadata": {
    "ExecuteTime": {
     "end_time": "2024-07-15T13:23:55.977631Z",
     "start_time": "2024-07-15T13:23:55.738243Z"
    }
   },
   "cell_type": "code",
   "source": [
    "# 판매량 데이터를 브랜드별로 합산하여 분석\n",
    "brand_sales_data = train_filtered.drop(columns=['ID', '제품', '대분류', '중분류', '소분류']).groupby('브랜드').sum()\n",
    "\n",
    "brand_sales_diff = brand_sales_data.diff(axis=1)\n",
    "\n",
    "# 100 이상 증가한 경우 찾기\n",
    "threshold = 100\n",
    "significant_brand_increases = brand_sales_diff > threshold\n",
    "\n",
    "brands_with_increases = significant_brand_increases.apply(lambda x: x[x].index.tolist(), axis=1)\n",
    "dates_with_increases = significant_brand_increases.apply(lambda x: x[x].index.tolist(), axis=1)\n",
    "\n",
    "brand_increase_summary = pd.DataFrame({\n",
    "    'Brand': brands_with_increases.index,\n",
    "    'Significant Increase Dates': dates_with_increases.values\n",
    "})\n",
    "\n",
    "# 100 이상 증가한 브랜드만 필터링\n",
    "filtered_brand_increase_summary = brand_increase_summary[brand_increase_summary['Significant Increase Dates'].apply(lambda x: len(x) > 0)]\n",
    "\n",
    "filtered_brand_increase_summary"
   ],
   "id": "9396a069de163dec",
   "outputs": [
    {
     "data": {
      "text/plain": [
       "           Brand                         Significant Increase Dates\n",
       "10    B002-00017  [2022-01-22, 2022-04-22, 2022-04-30, 2022-05-0...\n",
       "11    B002-00020                           [2023-01-27, 2023-01-28]\n",
       "13    B002-00024                           [2022-12-26, 2022-12-28]\n",
       "24    B002-00053                           [2022-04-02, 2022-05-27]\n",
       "34    B002-00067  [2022-01-05, 2022-01-06, 2022-05-25, 2022-05-2...\n",
       "...          ...                                                ...\n",
       "2460  B002-03774   [2022-04-26, 2022-08-28, 2022-08-29, 2022-09-15]\n",
       "2461  B002-03776                                       [2022-11-17]\n",
       "2468  B002-03786  [2022-02-17, 2022-04-09, 2022-10-03, 2022-11-2...\n",
       "2471  B002-03791                                       [2022-02-08]\n",
       "2476  B002-03796  [2022-03-09, 2022-03-15, 2022-03-16, 2022-04-1...\n",
       "\n",
       "[574 rows x 2 columns]"
      ],
      "text/html": [
       "<div>\n",
       "<style scoped>\n",
       "    .dataframe tbody tr th:only-of-type {\n",
       "        vertical-align: middle;\n",
       "    }\n",
       "\n",
       "    .dataframe tbody tr th {\n",
       "        vertical-align: top;\n",
       "    }\n",
       "\n",
       "    .dataframe thead th {\n",
       "        text-align: right;\n",
       "    }\n",
       "</style>\n",
       "<table border=\"1\" class=\"dataframe\">\n",
       "  <thead>\n",
       "    <tr style=\"text-align: right;\">\n",
       "      <th></th>\n",
       "      <th>Brand</th>\n",
       "      <th>Significant Increase Dates</th>\n",
       "    </tr>\n",
       "  </thead>\n",
       "  <tbody>\n",
       "    <tr>\n",
       "      <th>10</th>\n",
       "      <td>B002-00017</td>\n",
       "      <td>[2022-01-22, 2022-04-22, 2022-04-30, 2022-05-0...</td>\n",
       "    </tr>\n",
       "    <tr>\n",
       "      <th>11</th>\n",
       "      <td>B002-00020</td>\n",
       "      <td>[2023-01-27, 2023-01-28]</td>\n",
       "    </tr>\n",
       "    <tr>\n",
       "      <th>13</th>\n",
       "      <td>B002-00024</td>\n",
       "      <td>[2022-12-26, 2022-12-28]</td>\n",
       "    </tr>\n",
       "    <tr>\n",
       "      <th>24</th>\n",
       "      <td>B002-00053</td>\n",
       "      <td>[2022-04-02, 2022-05-27]</td>\n",
       "    </tr>\n",
       "    <tr>\n",
       "      <th>34</th>\n",
       "      <td>B002-00067</td>\n",
       "      <td>[2022-01-05, 2022-01-06, 2022-05-25, 2022-05-2...</td>\n",
       "    </tr>\n",
       "    <tr>\n",
       "      <th>...</th>\n",
       "      <td>...</td>\n",
       "      <td>...</td>\n",
       "    </tr>\n",
       "    <tr>\n",
       "      <th>2460</th>\n",
       "      <td>B002-03774</td>\n",
       "      <td>[2022-04-26, 2022-08-28, 2022-08-29, 2022-09-15]</td>\n",
       "    </tr>\n",
       "    <tr>\n",
       "      <th>2461</th>\n",
       "      <td>B002-03776</td>\n",
       "      <td>[2022-11-17]</td>\n",
       "    </tr>\n",
       "    <tr>\n",
       "      <th>2468</th>\n",
       "      <td>B002-03786</td>\n",
       "      <td>[2022-02-17, 2022-04-09, 2022-10-03, 2022-11-2...</td>\n",
       "    </tr>\n",
       "    <tr>\n",
       "      <th>2471</th>\n",
       "      <td>B002-03791</td>\n",
       "      <td>[2022-02-08]</td>\n",
       "    </tr>\n",
       "    <tr>\n",
       "      <th>2476</th>\n",
       "      <td>B002-03796</td>\n",
       "      <td>[2022-03-09, 2022-03-15, 2022-03-16, 2022-04-1...</td>\n",
       "    </tr>\n",
       "  </tbody>\n",
       "</table>\n",
       "<p>574 rows × 2 columns</p>\n",
       "</div>"
      ]
     },
     "execution_count": 5,
     "metadata": {},
     "output_type": "execute_result"
    }
   ],
   "execution_count": 5
  },
  {
   "metadata": {
    "ExecuteTime": {
     "end_time": "2024-07-15T13:24:14.076376Z",
     "start_time": "2024-07-15T13:24:13.908471Z"
    }
   },
   "cell_type": "code",
   "source": [
    "keyword_data = pd.read_csv('./csv/brand_keyword_cnt.csv')\n",
    "sales_data = pd.read_csv('./csv/products_with_significant_train_increases.csv')\n",
    "\n",
    "keyword_data, sales_data"
   ],
   "id": "2ec064447919f2da",
   "outputs": [
    {
     "data": {
      "text/plain": [
       "(             브랜드  2022-01-01  2022-01-02  2022-01-03  2022-01-04  2022-01-05  \\\n",
       " 0     B002-00001     0.84131     0.91383    1.450530    2.422390    1.871190   \n",
       " 1     B002-00002    12.64868    20.27850   15.332170   12.750210   13.562510   \n",
       " 2     B002-00003     0.33362     0.43516    0.362630    0.174060    0.217580   \n",
       " 3     B002-00005     1.07339     1.71163    2.016240    1.914700    1.987230   \n",
       " 4     B002-00006     0.00000     0.00000    0.188558    0.246574    0.246574   \n",
       " ...          ...         ...         ...         ...         ...         ...   \n",
       " 3165  B002-03794     2.32085     2.98810    3.611830    4.061500    3.669850   \n",
       " 3166  B002-03795     0.14505     0.00000    0.087030    0.072520    0.087030   \n",
       " 3167  B002-03796     0.00000     0.00000    0.000000    0.000000    0.000000   \n",
       " 3168  B002-03798     0.14505     0.00000    0.116040    0.072520    0.116040   \n",
       " 3169  B002-03799     4.55468     5.54105    6.150270    6.396860    7.006090   \n",
       " \n",
       "       2022-01-06  2022-01-07  2022-01-08  2022-01-09  ...  2023-03-26  \\\n",
       " 0       1.581080    1.232950    1.174930    1.145920  ...    0.319110   \n",
       " 1      13.707570   11.937910   15.564250   14.084710  ...   10.269790   \n",
       " 2       0.464170    0.420650    0.290100    0.377130  ...    0.536690   \n",
       " 3       2.146790    1.682620    1.378000    1.421520  ...    2.219320   \n",
       " 4       0.246574    0.377139    0.087012    0.261084  ...    0.072526   \n",
       " ...          ...         ...         ...         ...  ...         ...   \n",
       " 3165    3.771390    3.031620    2.988100    3.133150  ...    2.422390   \n",
       " 3166    0.101530    0.072520    0.130540    0.116040  ...    0.000000   \n",
       " 3167    0.101530    0.000000    0.000000    0.000000  ...    0.000000   \n",
       " 3168    0.275600    0.217580    0.116040    0.101530  ...    0.101530   \n",
       " 3169    6.657960    5.802140    5.483020    6.034230  ...    5.105880   \n",
       " \n",
       "       2023-03-27  2023-03-28  2023-03-29  2023-03-30  2023-03-31  2023-04-01  \\\n",
       " 0       0.391640    0.377130     0.49318    0.072520     0.29010     0.31911   \n",
       " 1      11.966920   10.646930    10.41485   10.487380     9.48651     9.28343   \n",
       " 2       0.696250    0.449660     0.39164    1.029880     0.49318     0.91383   \n",
       " 3       2.509420    2.872060     2.37888    2.030750     1.53756     1.34899   \n",
       " 4       0.290103    0.087012     0.00000    0.130542     0.00000     0.00000   \n",
       " ...          ...         ...         ...         ...         ...         ...   \n",
       " 3165    2.422390    2.756010     2.32085    2.088770     1.98723     1.07339   \n",
       " 3166    0.072520    0.000000     0.10153    0.101530     0.00000     0.00000   \n",
       " 3167    0.000000    0.000000     0.00000    0.000000     0.00000     0.00000   \n",
       " 3168    0.087030    0.145050     0.17406    0.188560     0.11604     0.11604   \n",
       " 3169    6.672460    6.440380     5.90368    4.931820     5.51203     3.52480   \n",
       " \n",
       "       2023-04-02  2023-04-03  2023-04-04  \n",
       " 0       0.232080    0.333620     0.44966  \n",
       " 1      10.429350   11.154620    11.38671  \n",
       " 2       0.797790    1.015370     0.88482  \n",
       " 3       1.261960    2.320850     2.30635  \n",
       " 4       0.072526    0.217577     0.00000  \n",
       " ...          ...         ...         ...  \n",
       " 3165    1.929210    2.509420     1.78416  \n",
       " 3166    0.000000    0.000000     0.00000  \n",
       " 3167    0.000000    0.072520     0.07252  \n",
       " 3168    0.087030    0.174060     0.10153  \n",
       " 3169    4.032490    5.889170     5.07687  \n",
       " \n",
       " [3170 rows x 460 columns],\n",
       "           Brand                         Significant Increase Dates\n",
       " 0    B002-00017  ['2022-01-22', '2022-04-22', '2022-04-30', '20...\n",
       " 1    B002-00020                       ['2023-01-27', '2023-01-28']\n",
       " 2    B002-00024                       ['2022-12-26', '2022-12-28']\n",
       " 3    B002-00053                       ['2022-04-02', '2022-05-27']\n",
       " 4    B002-00067  ['2022-01-05', '2022-01-06', '2022-05-25', '20...\n",
       " ..          ...                                                ...\n",
       " 569  B002-03774  ['2022-04-26', '2022-08-28', '2022-08-29', '20...\n",
       " 570  B002-03776                                     ['2022-11-17']\n",
       " 571  B002-03786  ['2022-02-17', '2022-04-09', '2022-10-03', '20...\n",
       " 572  B002-03791                                     ['2022-02-08']\n",
       " 573  B002-03796  ['2022-03-09', '2022-03-15', '2022-03-16', '20...\n",
       " \n",
       " [574 rows x 2 columns])"
      ]
     },
     "execution_count": 6,
     "metadata": {},
     "output_type": "execute_result"
    }
   ],
   "execution_count": 6
  },
  {
   "metadata": {
    "ExecuteTime": {
     "end_time": "2024-07-15T13:24:25.885088Z",
     "start_time": "2024-07-15T13:24:25.778380Z"
    }
   },
   "cell_type": "code",
   "source": [
    "import ast\n",
    "from datetime import datetime\n",
    "\n",
    "def convert_to_datetime(date_str):\n",
    "    return datetime.strptime(date_str, \"%Y-%m-%d\")\n",
    "\n",
    "keyword_data.set_index('브랜드', inplace=True)\n",
    "\n",
    "# 판매 증가 데이터에서 날짜 리스트를 문자열로 변환 후 datetime 형식으로 변환\n",
    "sales_data['Significant Increase Dates'] = sales_data['Significant Increase Dates'].apply(ast.literal_eval)\n",
    "sales_data['Significant Increase Dates'] = sales_data['Significant Increase Dates'].apply(lambda dates: [convert_to_datetime(date) for date in dates])"
   ],
   "id": "4882a3a51522b247",
   "outputs": [],
   "execution_count": 7
  },
  {
   "metadata": {
    "ExecuteTime": {
     "end_time": "2024-07-15T13:24:33.448006Z",
     "start_time": "2024-07-15T13:24:33.431014Z"
    }
   },
   "cell_type": "code",
   "source": [
    "# 각 브랜드별로 날짜 리스트를 사용하여 이전과 이후의 키워드 언급량을 계산하는 함수\n",
    "def calculate_keyword_mentions(brand, dates):\n",
    "    if brand not in keyword_data.index:\n",
    "        return None, None\n",
    "\n",
    "    keyword_mentions = keyword_data.loc[brand]\n",
    "    total_before = 0\n",
    "    total_after = 0\n",
    "\n",
    "    for date in dates:\n",
    "        date_str = date.strftime('%Y-%m-%d')\n",
    "        if date_str in keyword_mentions.index:\n",
    "            before = keyword_mentions[:date_str].sum()\n",
    "            after = keyword_mentions[date_str:].sum()\n",
    "            total_before += before\n",
    "            total_after += after\n",
    "\n",
    "    return total_before, total_after"
   ],
   "id": "eea996c18e88bbb8",
   "outputs": [],
   "execution_count": 8
  },
  {
   "metadata": {
    "ExecuteTime": {
     "end_time": "2024-07-15T13:24:43.298104Z",
     "start_time": "2024-07-15T13:24:42.169129Z"
    }
   },
   "cell_type": "code",
   "source": [
    "# 각 브랜드별로 키워드 언급량을 계산\n",
    "brand_keyword_analysis = []\n",
    "\n",
    "for index, row in sales_data.iterrows():\n",
    "    brand = row['Brand']\n",
    "    dates = row['Significant Increase Dates']\n",
    "    total_before, total_after = calculate_keyword_mentions(brand, dates)\n",
    "    if total_before is not None and total_after is not None:\n",
    "        brand_keyword_analysis.append([brand, total_before, total_after])\n",
    "\n",
    "brand_keyword_analysis_df = pd.DataFrame(brand_keyword_analysis, columns=['Brand', 'Total_Before', 'Total_After'])\n",
    "\n",
    "# 키워드 언급량 변화 계산\n",
    "brand_keyword_analysis_df['Change'] = brand_keyword_analysis_df['Total_After'] - brand_keyword_analysis_df['Total_Before']"
   ],
   "id": "1bb83dba95d7c365",
   "outputs": [],
   "execution_count": 9
  },
  {
   "metadata": {
    "ExecuteTime": {
     "end_time": "2024-07-15T13:24:50.784261Z",
     "start_time": "2024-07-15T13:24:50.771261Z"
    }
   },
   "cell_type": "code",
   "source": [
    "# 상관관계 계산\n",
    "correlation = brand_keyword_analysis_df[['Total_Before', 'Total_After', 'Change']].corr()\n",
    "\n",
    "print(\"Correlation Matrix:\")\n",
    "print(correlation)"
   ],
   "id": "ac1f4d7f7b5e477b",
   "outputs": [
    {
     "name": "stdout",
     "output_type": "stream",
     "text": [
      "Correlation Matrix:\n",
      "              Total_Before  Total_After    Change\n",
      "Total_Before      1.000000     0.916014 -0.767390\n",
      "Total_After       0.916014     1.000000 -0.445733\n",
      "Change           -0.767390    -0.445733  1.000000\n"
     ]
    }
   ],
   "execution_count": 10
  },
  {
   "metadata": {
    "ExecuteTime": {
     "end_time": "2024-07-15T13:24:59.479634Z",
     "start_time": "2024-07-15T13:24:59.150993Z"
    }
   },
   "cell_type": "code",
   "source": [
    "# 키워드 언급량 변화와 판매 증가 간의 관계를 시각화\n",
    "plt.figure(figsize=(10, 6))\n",
    "\n",
    "# Total_Before vs Change\n",
    "plt.subplot(1, 2, 1)\n",
    "plt.scatter(brand_keyword_analysis_df['Total_Before'], brand_keyword_analysis_df['Change'], alpha=0.5)\n",
    "plt.title('Total Before vs Change')\n",
    "plt.xlabel('Total Before Keyword Mentions')\n",
    "plt.ylabel('Change in Keyword Mentions')\n",
    "\n",
    "# Total_After vs Change\n",
    "plt.subplot(1, 2, 2)\n",
    "plt.scatter(brand_keyword_analysis_df['Total_After'], brand_keyword_analysis_df['Change'], alpha=0.5)\n",
    "plt.title('Total After vs Change')\n",
    "plt.xlabel('Total After Keyword Mentions')\n",
    "plt.ylabel('Change in Keyword Mentions')\n",
    "\n",
    "plt.tight_layout()\n",
    "plt.show()"
   ],
   "id": "88832d46c3c21661",
   "outputs": [
    {
     "data": {
      "text/plain": [
       "<Figure size 1000x600 with 2 Axes>"
      ],
      "image/png": "[encoded data removed]"
     },
     "metadata": {},
     "output_type": "display_data"
    }
   ],
   "execution_count": 11
  },
  {
   "metadata": {
    "ExecuteTime": {
     "end_time": "2024-07-15T13:25:10.125051Z",
     "start_time": "2024-07-15T13:25:10.095941Z"
    }
   },
   "cell_type": "code",
   "source": [
    "# 각 경우에 해당하는 브랜드 정리\n",
    "\n",
    "# 1. 초기 키워드 언급량(Total_Before)이 많고 이후 변화량이 적은 브랜드\n",
    "high_before_low_change = brand_keyword_analysis_df[\n",
    "    (brand_keyword_analysis_df['Total_Before'] > brand_keyword_analysis_df['Total_Before'].mean()) & \n",
    "    (brand_keyword_analysis_df['Change'] < brand_keyword_analysis_df['Change'].mean())\n",
    "]\n",
    "\n",
    "# 2. 판매량 증가 후 키워드 언급량(Total_After)이 많고 이후 변화량이 적은 브랜드\n",
    "high_after_low_change = brand_keyword_analysis_df[\n",
    "    (brand_keyword_analysis_df['Total_After'] > brand_keyword_analysis_df['Total_After'].mean()) & \n",
    "    (brand_keyword_analysis_df['Change'] < brand_keyword_analysis_df['Change'].mean())\n",
    "]\n",
    "\n",
    "# 3. 초기 키워드 언급량(Total_Before)이 많고 이후 키워드 언급량(Total_After)도 많은 브랜드\n",
    "high_before_high_after = brand_keyword_analysis_df[\n",
    "    (brand_keyword_analysis_df['Total_Before'] > brand_keyword_analysis_df['Total_Before'].mean()) & \n",
    "    (brand_keyword_analysis_df['Total_After'] > brand_keyword_analysis_df['Total_After'].mean())\n",
    "]\n",
    "\n",
    "# 결과 확인\n",
    "high_before_low_change, high_after_low_change, high_before_high_after"
   ],
   "id": "3130ee8d39642013",
   "outputs": [
    {
     "data": {
      "text/plain": [
       "(          Brand  Total_Before   Total_After        Change\n",
       " 17   B002-00149  4.878783e+04  2.712413e+04 -2.166370e+04\n",
       " 22   B002-00202  5.360768e+04  2.130938e+04 -3.229831e+04\n",
       " 23   B002-00227  8.558322e+04  6.942559e+04 -1.615763e+04\n",
       " 52   B002-00416  6.514081e+04  5.263694e+04 -1.250388e+04\n",
       " 76   B002-00579  1.177889e+06  3.376609e+05 -8.402282e+05\n",
       " 79   B002-00628  1.121241e+05  6.209955e+03 -1.059142e+05\n",
       " 85   B002-00656  2.884463e+05  6.074004e+04 -2.277062e+05\n",
       " 89   B002-00669  6.567324e+04  5.779735e+04 -7.875884e+03\n",
       " 90   B002-00676  3.950167e+05  2.703565e+05 -1.246602e+05\n",
       " 96   B002-00731  1.561406e+05  3.445727e+04 -1.216833e+05\n",
       " 127  B002-00900  1.849062e+05  1.483261e+05 -3.658004e+04\n",
       " 133  B002-00985  6.435506e+04  4.355702e+04 -2.079803e+04\n",
       " 143  B002-01028  7.628534e+04  1.713948e+04 -5.914586e+04\n",
       " 160  B002-01138  5.016653e+04  3.490133e+04 -1.526520e+04\n",
       " 163  B002-01144  1.456284e+05  9.303879e+04 -5.258963e+04\n",
       " 172  B002-01210  1.084099e+05  1.910333e+04 -8.930659e+04\n",
       " 230  B002-01615  8.345562e+04  7.177195e+04 -1.168367e+04\n",
       " 246  B002-01712  1.347543e+05  5.543430e+04 -7.931995e+04\n",
       " 257  B002-01788  4.452754e+04  3.068376e+04 -1.384378e+04\n",
       " 288  B002-01987  1.230845e+05  2.946311e+04 -9.362138e+04\n",
       " 299  B002-02057  6.992151e+04  1.547838e+04 -5.444313e+04\n",
       " 308  B002-02123  6.258118e+04  3.920141e+04 -2.337977e+04\n",
       " 333  B002-02272  1.504347e+05  3.661848e+04 -1.138162e+05\n",
       " 354  B002-02393  5.752125e+05  2.502355e+04 -5.501889e+05\n",
       " 368  B002-02473  2.385566e+05  1.252530e+05 -1.133036e+05\n",
       " 379  B002-02525  4.767977e+06  4.679868e+06 -8.810887e+04\n",
       " 411  B002-02742  6.298731e+04  1.468214e+04 -4.830518e+04\n",
       " 438  B002-02918  1.416998e+05  1.333360e+05 -8.363839e+03\n",
       " 478  B002-03159  7.226775e+06  3.558592e+06 -3.668182e+06\n",
       " 501  B002-03304  7.016486e+04  5.781497e+04 -1.234988e+04\n",
       " 542  B002-03563  2.681752e+05  1.840230e+05 -8.415223e+04\n",
       " 564  B002-03757  8.296957e+04  3.584391e+04 -4.712566e+04\n",
       " 571  B002-03786  6.054461e+04  1.946712e+04 -4.107749e+04,\n",
       "           Brand  Total_Before   Total_After        Change\n",
       " 23   B002-00227  8.558322e+04  6.942559e+04 -1.615763e+04\n",
       " 52   B002-00416  6.514081e+04  5.263694e+04 -1.250388e+04\n",
       " 76   B002-00579  1.177889e+06  3.376609e+05 -8.402282e+05\n",
       " 85   B002-00656  2.884463e+05  6.074004e+04 -2.277062e+05\n",
       " 89   B002-00669  6.567324e+04  5.779735e+04 -7.875884e+03\n",
       " 90   B002-00676  3.950167e+05  2.703565e+05 -1.246602e+05\n",
       " 127  B002-00900  1.849062e+05  1.483261e+05 -3.658004e+04\n",
       " 133  B002-00985  6.435506e+04  4.355702e+04 -2.079803e+04\n",
       " 163  B002-01144  1.456284e+05  9.303879e+04 -5.258963e+04\n",
       " 230  B002-01615  8.345562e+04  7.177195e+04 -1.168367e+04\n",
       " 246  B002-01712  1.347543e+05  5.543430e+04 -7.931995e+04\n",
       " 308  B002-02123  6.258118e+04  3.920141e+04 -2.337977e+04\n",
       " 333  B002-02272  1.504347e+05  3.661848e+04 -1.138162e+05\n",
       " 368  B002-02473  2.385566e+05  1.252530e+05 -1.133036e+05\n",
       " 379  B002-02525  4.767977e+06  4.679868e+06 -8.810887e+04\n",
       " 438  B002-02918  1.416998e+05  1.333360e+05 -8.363839e+03\n",
       " 478  B002-03159  7.226775e+06  3.558592e+06 -3.668182e+06\n",
       " 501  B002-03304  7.016486e+04  5.781497e+04 -1.234988e+04\n",
       " 542  B002-03563  2.681752e+05  1.840230e+05 -8.415223e+04\n",
       " 564  B002-03757  8.296957e+04  3.584391e+04 -4.712566e+04,\n",
       "           Brand  Total_Before   Total_After        Change\n",
       " 12   B002-00107  1.775007e+05  2.598283e+05  8.232757e+04\n",
       " 15   B002-00113  3.453157e+05  3.438996e+05 -1.416035e+03\n",
       " 23   B002-00227  8.558322e+04  6.942559e+04 -1.615763e+04\n",
       " 30   B002-00282  5.953140e+04  7.764930e+04  1.811791e+04\n",
       " 52   B002-00416  6.514081e+04  5.263694e+04 -1.250388e+04\n",
       " 76   B002-00579  1.177889e+06  3.376609e+05 -8.402282e+05\n",
       " 83   B002-00644  4.634320e+04  9.146113e+04  4.511792e+04\n",
       " 85   B002-00656  2.884463e+05  6.074004e+04 -2.277062e+05\n",
       " 89   B002-00669  6.567324e+04  5.779735e+04 -7.875884e+03\n",
       " 90   B002-00676  3.950167e+05  2.703565e+05 -1.246602e+05\n",
       " 126  B002-00894  4.791561e+04  4.583014e+04 -2.085475e+03\n",
       " 127  B002-00900  1.849062e+05  1.483261e+05 -3.658004e+04\n",
       " 133  B002-00985  6.435506e+04  4.355702e+04 -2.079803e+04\n",
       " 151  B002-01069  2.060021e+05  2.389088e+05  3.290669e+04\n",
       " 163  B002-01144  1.456284e+05  9.303879e+04 -5.258963e+04\n",
       " 173  B002-01213  1.001487e+05  1.409360e+05  4.078736e+04\n",
       " 174  B002-01220  9.201972e+04  1.332595e+05  4.123981e+04\n",
       " 177  B002-01231  4.380037e+04  6.834732e+04  2.454695e+04\n",
       " 181  B002-01269  1.737304e+05  2.071167e+05  3.338632e+04\n",
       " 214  B002-01523  5.907489e+04  7.073176e+04  1.165687e+04\n",
       " 229  B002-01605  8.830218e+04  1.502353e+05  6.193315e+04\n",
       " 230  B002-01615  8.345562e+04  7.177195e+04 -1.168367e+04\n",
       " 240  B002-01670  1.154262e+05  1.447510e+05  2.932481e+04\n",
       " 245  B002-01710  8.244395e+05  1.007463e+06  1.830232e+05\n",
       " 246  B002-01712  1.347543e+05  5.543430e+04 -7.931995e+04\n",
       " 308  B002-02123  6.258118e+04  3.920141e+04 -2.337977e+04\n",
       " 325  B002-02231  2.977410e+05  3.099136e+05  1.217266e+04\n",
       " 333  B002-02272  1.504347e+05  3.661848e+04 -1.138162e+05\n",
       " 349  B002-02370  2.381960e+05  3.310154e+05  9.281941e+04\n",
       " 366  B002-02455  6.821795e+04  8.936790e+04  2.114995e+04\n",
       " 368  B002-02473  2.385566e+05  1.252530e+05 -1.133036e+05\n",
       " 371  B002-02484  3.572573e+05  4.687493e+05  1.114920e+05\n",
       " 379  B002-02525  4.767977e+06  4.679868e+06 -8.810887e+04\n",
       " 408  B002-02723  1.122332e+05  1.336183e+05  2.138505e+04\n",
       " 423  B002-02827  5.221024e+04  6.306723e+04  1.085699e+04\n",
       " 426  B002-02848  1.015449e+05  1.011817e+05 -3.631733e+02\n",
       " 438  B002-02918  1.416998e+05  1.333360e+05 -8.363839e+03\n",
       " 441  B002-02931  1.407866e+05  3.828432e+05  2.420566e+05\n",
       " 478  B002-03159  7.226775e+06  3.558592e+06 -3.668182e+06\n",
       " 481  B002-03177  4.481501e+04  1.125787e+05  6.776367e+04\n",
       " 501  B002-03304  7.016486e+04  5.781497e+04 -1.234988e+04\n",
       " 506  B002-03327  8.899332e+05  1.908820e+06  1.018886e+06\n",
       " 522  B002-03436  6.478688e+05  6.849343e+05  3.706554e+04\n",
       " 542  B002-03563  2.681752e+05  1.840230e+05 -8.415223e+04\n",
       " 564  B002-03757  8.296957e+04  3.584391e+04 -4.712566e+04\n",
       " 568  B002-03771  1.208340e+05  1.481350e+05  2.730108e+04)"
      ]
     },
     "execution_count": 12,
     "metadata": {},
     "output_type": "execute_result"
    }
   ],
   "execution_count": 12
  },
  {
   "metadata": {},
   "cell_type": "code",
   "outputs": [],
   "execution_count": null,
   "source": "",
   "id": "41ad782138ac01df"
  }
 ],
 "metadata": {
  "kernelspec": {
   "display_name": "Python 3",
   "language": "python",
   "name": "python3"
  },
  "language_info": {
   "codemirror_mode": {
    "name": "ipython",
    "version": 2
   },
   "file_extension": ".py",
   "mimetype": "text/x-python",
   "name": "python",
   "nbconvert_exporter": "python",
   "pygments_lexer": "ipython2",
   "version": "2.7.6"
  }
 },
 "nbformat": 4,
 "nbformat_minor": 5
}

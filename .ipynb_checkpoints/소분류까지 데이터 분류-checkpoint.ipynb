{
 "cells": [
  {
   "cell_type": "code",
   "execution_count": 1,
   "id": "b141a032",
   "metadata": {},
   "outputs": [],
   "source": [
    "import pandas as pd\n",
    "\n",
    "brand_keyword=pd.read_csv('./csv/brand_keyword_cnt.csv')\n",
    "product_info=pd.read_csv('./csv/product_info.csv')\n",
    "sales=pd.read_csv('./csv/sales.csv')\n",
    "train=pd.read_csv('./csv/train.csv')\n"
   ]
  },
  {
   "cell_type": "code",
   "execution_count": 2,
   "id": "1c532409",
   "metadata": {},
   "outputs": [
    {
     "data": {
      "text/plain": [
       "array(['B002-C001-0002', 'B002-C001-0003', 'B002-C001-0001',\n",
       "       'B002-C001-0005', 'B002-C001-0004'], dtype=object)"
      ]
     },
     "execution_count": 2,
     "metadata": {},
     "output_type": "execute_result"
    }
   ],
   "source": [
    "sales['대분류'].unique()"
   ]
  },
  {
   "cell_type": "code",
   "execution_count": 3,
   "id": "3ba181e7",
   "metadata": {},
   "outputs": [
    {
     "data": {
      "text/plain": [
       "Index(['ID', '제품', '대분류', '중분류', '소분류', '브랜드', '2022-01-01', '2022-01-02',\n",
       "       '2022-01-03', '2022-01-04',\n",
       "       ...\n",
       "       '2023-03-26', '2023-03-27', '2023-03-28', '2023-03-29', '2023-03-30',\n",
       "       '2023-03-31', '2023-04-01', '2023-04-02', '2023-04-03', '2023-04-04'],\n",
       "      dtype='object', length=465)"
      ]
     },
     "execution_count": 3,
     "metadata": {},
     "output_type": "execute_result"
    }
   ],
   "source": [
    "sales.columns"
   ]
  },
  {
   "cell_type": "code",
   "execution_count": 4,
   "id": "6a96687b",
   "metadata": {},
   "outputs": [
    {
     "data": {
      "text/plain": [
       "array(['B002-C002-0007', 'B002-C002-0008', 'B002-C002-0001',\n",
       "       'B002-C002-0006', 'B002-C002-0004', 'B002-C002-0005',\n",
       "       'B002-C002-0003', 'B002-C002-0002', 'B002-C002-0011',\n",
       "       'B002-C002-0009', 'B002-C002-0010'], dtype=object)"
      ]
     },
     "execution_count": 4,
     "metadata": {},
     "output_type": "execute_result"
    }
   ],
   "source": [
    "sales['중분류'].unique()"
   ]
  },
  {
   "cell_type": "code",
   "execution_count": 5,
   "id": "f7b3b3fa",
   "metadata": {},
   "outputs": [
    {
     "data": {
      "text/plain": [
       "array(['B002-C003-0038', 'B002-C003-0044', 'B002-C003-0003',\n",
       "       'B002-C003-0032', 'B002-C003-0034', 'B002-C003-0039',\n",
       "       'B002-C003-0019', 'B002-C003-0025', 'B002-C003-0001',\n",
       "       'B002-C003-0004', 'B002-C003-0036', 'B002-C003-0005',\n",
       "       'B002-C003-0012', 'B002-C003-0011', 'B002-C003-0016',\n",
       "       'B002-C003-0009', 'B002-C003-0010', 'B002-C003-0052',\n",
       "       'B002-C003-0053', 'B002-C003-0006', 'B002-C003-0007',\n",
       "       'B002-C003-0029', 'B002-C003-0045', 'B002-C003-0015',\n",
       "       'B002-C003-0002', 'B002-C003-0022', 'B002-C003-0008',\n",
       "       'B002-C003-0018', 'B002-C003-0035', 'B002-C003-0037',\n",
       "       'B002-C003-0046', 'B002-C003-0040', 'B002-C003-0047',\n",
       "       'B002-C003-0014', 'B002-C003-0023', 'B002-C003-0021',\n",
       "       'B002-C003-0020', 'B002-C003-0013', 'B002-C003-0017',\n",
       "       'B002-C003-0024', 'B002-C003-0026', 'B002-C003-0048',\n",
       "       'B002-C003-0049', 'B002-C003-0028', 'B002-C003-0027',\n",
       "       'B002-C003-0041', 'B002-C003-0030', 'B002-C003-0042',\n",
       "       'B002-C003-0033', 'B002-C003-0043', 'B002-C003-0050',\n",
       "       'B002-C003-0031', 'B002-C003-0051'], dtype=object)"
      ]
     },
     "execution_count": 5,
     "metadata": {},
     "output_type": "execute_result"
    }
   ],
   "source": [
    "sales['소분류'].unique()"
   ]
  },
  {
   "cell_type": "code",
   "execution_count": 6,
   "id": "a50d092f",
   "metadata": {},
   "outputs": [],
   "source": [
    "sales1=sales[sales['대분류']=='B002-C001-0001']"
   ]
  },
  {
   "cell_type": "code",
   "execution_count": 7,
   "id": "fadb8e90",
   "metadata": {},
   "outputs": [],
   "source": [
    "sales2=sales[sales['대분류']=='B002-C001-0002']"
   ]
  },
  {
   "cell_type": "code",
   "execution_count": 8,
   "id": "fbcd957b",
   "metadata": {},
   "outputs": [],
   "source": [
    "sales3=sales[sales['대분류']=='B002-C001-0003']"
   ]
  },
  {
   "cell_type": "code",
   "execution_count": 9,
   "id": "99d49ce9",
   "metadata": {},
   "outputs": [],
   "source": [
    "sales4=sales[sales['대분류']=='B002-C001-0004']"
   ]
  },
  {
   "cell_type": "code",
   "execution_count": 10,
   "id": "23afb262",
   "metadata": {},
   "outputs": [],
   "source": [
    "sales5=sales[sales['대분류']=='B002-C001-0005']"
   ]
  },
  {
   "cell_type": "code",
   "execution_count": 11,
   "id": "6a9d5bbd",
   "metadata": {},
   "outputs": [
    {
     "data": {
      "text/plain": [
       "array(['B002-C002-0001', 'B002-C002-0009'], dtype=object)"
      ]
     },
     "execution_count": 11,
     "metadata": {},
     "output_type": "execute_result"
    }
   ],
   "source": [
    "sales1['중분류'].unique()"
   ]
  },
  {
   "cell_type": "code",
   "execution_count": 12,
   "id": "54dd8a6b",
   "metadata": {},
   "outputs": [
    {
     "data": {
      "text/plain": [
       "array(['B002-C002-0007', 'B002-C002-0006', 'B002-C002-0004',\n",
       "       'B002-C002-0005', 'B002-C002-0003', 'B002-C002-0002',\n",
       "       'B002-C002-0009'], dtype=object)"
      ]
     },
     "execution_count": 12,
     "metadata": {},
     "output_type": "execute_result"
    }
   ],
   "source": [
    "sales2['중분류'].unique()"
   ]
  },
  {
   "cell_type": "code",
   "execution_count": 13,
   "id": "be79074a",
   "metadata": {},
   "outputs": [
    {
     "data": {
      "text/plain": [
       "array(['B002-C002-0008', 'B002-C002-0010'], dtype=object)"
      ]
     },
     "execution_count": 13,
     "metadata": {},
     "output_type": "execute_result"
    }
   ],
   "source": [
    "sales3['중분류'].unique()"
   ]
  },
  {
   "cell_type": "code",
   "execution_count": 14,
   "id": "5737ebd6",
   "metadata": {},
   "outputs": [
    {
     "data": {
      "text/plain": [
       "array(['B002-C002-0009'], dtype=object)"
      ]
     },
     "execution_count": 14,
     "metadata": {},
     "output_type": "execute_result"
    }
   ],
   "source": [
    "sales4['중분류'].unique()"
   ]
  },
  {
   "cell_type": "code",
   "execution_count": 15,
   "id": "a0fc7700",
   "metadata": {},
   "outputs": [
    {
     "data": {
      "text/plain": [
       "array(['B002-C002-0011'], dtype=object)"
      ]
     },
     "execution_count": 15,
     "metadata": {},
     "output_type": "execute_result"
    }
   ],
   "source": [
    "sales5['중분류'].unique()"
   ]
  },
  {
   "cell_type": "code",
   "execution_count": 16,
   "id": "a5f8e980",
   "metadata": {},
   "outputs": [],
   "source": [
    "sales1_1=sales[sales['중분류']=='B002-C002-0001']\n",
    "sales1_2=sales[sales['중분류']=='B002-C002-0009']\n",
    "\n",
    "sales2_1=sales[sales['중분류']=='B002-C002-0002']\n",
    "sales2_2=sales[sales['중분류']=='B002-C002-0003']\n",
    "sales2_3=sales[sales['중분류']=='B002-C002-0004']\n",
    "sales2_4=sales[sales['중분류']=='B002-C002-0005']\n",
    "sales2_5=sales[sales['중분류']=='B002-C002-0006']\n",
    "sales2_6=sales[sales['중분류']=='B002-C002-0007']\n",
    "sales2_7=sales[sales['중분류']=='B002-C002-0009']\n",
    "\n",
    "sales3_1=sales[sales['중분류']=='B002-C002-0008']\n",
    "sales3_2=sales[sales['중분류']=='B002-C002-0010']\n",
    "\n",
    "sales4_1=sales[sales['중분류']=='B002-C002-0009']\n",
    "\n",
    "sales5_1=sales[sales['중분류']=='B002-C002-0011']"
   ]
  },
  {
   "cell_type": "code",
   "execution_count": 17,
   "id": "5f032526",
   "metadata": {
    "scrolled": false
   },
   "outputs": [
    {
     "data": {
      "text/plain": [
       "array(['B002-C003-0003', 'B002-C003-0001', 'B002-C003-0004',\n",
       "       'B002-C003-0005', 'B002-C003-0002'], dtype=object)"
      ]
     },
     "execution_count": 17,
     "metadata": {},
     "output_type": "execute_result"
    }
   ],
   "source": [
    "sales1_1['소분류'].unique()"
   ]
  },
  {
   "cell_type": "code",
   "execution_count": 18,
   "id": "283a9538",
   "metadata": {},
   "outputs": [
    {
     "data": {
      "text/plain": [
       "array(['B002-C003-0045', 'B002-C003-0046', 'B002-C003-0047',\n",
       "       'B002-C003-0048', 'B002-C003-0049', 'B002-C003-0051'], dtype=object)"
      ]
     },
     "execution_count": 18,
     "metadata": {},
     "output_type": "execute_result"
    }
   ],
   "source": [
    "sales1_2['소분류'].unique()"
   ]
  },
  {
   "cell_type": "code",
   "execution_count": 19,
   "id": "71b759ff",
   "metadata": {},
   "outputs": [
    {
     "data": {
      "text/plain": [
       "array(['B002-C003-0011', 'B002-C003-0009', 'B002-C003-0010',\n",
       "       'B002-C003-0006', 'B002-C003-0007', 'B002-C003-0008'], dtype=object)"
      ]
     },
     "execution_count": 19,
     "metadata": {},
     "output_type": "execute_result"
    }
   ],
   "source": [
    "sales2_1['소분류'].unique()"
   ]
  },
  {
   "cell_type": "code",
   "execution_count": 20,
   "id": "4fbeab42",
   "metadata": {},
   "outputs": [
    {
     "data": {
      "text/plain": [
       "array(['B002-C003-0012', 'B002-C003-0016', 'B002-C003-0015',\n",
       "       'B002-C003-0018', 'B002-C003-0014', 'B002-C003-0013',\n",
       "       'B002-C003-0017'], dtype=object)"
      ]
     },
     "execution_count": 20,
     "metadata": {},
     "output_type": "execute_result"
    }
   ],
   "source": [
    "sales2_2['소분류'].unique()"
   ]
  },
  {
   "cell_type": "code",
   "execution_count": 21,
   "id": "f26d30f4",
   "metadata": {},
   "outputs": [
    {
     "data": {
      "text/plain": [
       "array(['B002-C003-0019', 'B002-C003-0022', 'B002-C003-0023',\n",
       "       'B002-C003-0021', 'B002-C003-0020'], dtype=object)"
      ]
     },
     "execution_count": 21,
     "metadata": {},
     "output_type": "execute_result"
    }
   ],
   "source": [
    "sales2_3['소분류'].unique()"
   ]
  },
  {
   "cell_type": "code",
   "execution_count": 22,
   "id": "cd3f056e",
   "metadata": {},
   "outputs": [
    {
     "data": {
      "text/plain": [
       "array(['B002-C003-0025', 'B002-C003-0029', 'B002-C003-0024',\n",
       "       'B002-C003-0026', 'B002-C003-0028', 'B002-C003-0027',\n",
       "       'B002-C003-0041'], dtype=object)"
      ]
     },
     "execution_count": 22,
     "metadata": {},
     "output_type": "execute_result"
    }
   ],
   "source": [
    "sales2_4['소분류'].unique()"
   ]
  },
  {
   "cell_type": "code",
   "execution_count": 23,
   "id": "66444fb5",
   "metadata": {},
   "outputs": [
    {
     "data": {
      "text/plain": [
       "array(['B002-C003-0032', 'B002-C003-0034', 'B002-C003-0030',\n",
       "       'B002-C003-0033', 'B002-C003-0031'], dtype=object)"
      ]
     },
     "execution_count": 23,
     "metadata": {},
     "output_type": "execute_result"
    }
   ],
   "source": [
    "sales2_5['소분류'].unique()"
   ]
  },
  {
   "cell_type": "code",
   "execution_count": 24,
   "id": "5df9b9e3",
   "metadata": {},
   "outputs": [
    {
     "data": {
      "text/plain": [
       "array(['B002-C003-0038', 'B002-C003-0039', 'B002-C003-0036',\n",
       "       'B002-C003-0035', 'B002-C003-0037', 'B002-C003-0040'], dtype=object)"
      ]
     },
     "execution_count": 24,
     "metadata": {},
     "output_type": "execute_result"
    }
   ],
   "source": [
    "sales2_6['소분류'].unique()"
   ]
  },
  {
   "cell_type": "code",
   "execution_count": 25,
   "id": "71cbb017",
   "metadata": {},
   "outputs": [
    {
     "data": {
      "text/plain": [
       "array(['B002-C003-0045', 'B002-C003-0046', 'B002-C003-0047',\n",
       "       'B002-C003-0048', 'B002-C003-0049', 'B002-C003-0051'], dtype=object)"
      ]
     },
     "execution_count": 25,
     "metadata": {},
     "output_type": "execute_result"
    }
   ],
   "source": [
    "sales2_7['소분류'].unique()"
   ]
  },
  {
   "cell_type": "code",
   "execution_count": 26,
   "id": "bea57374",
   "metadata": {},
   "outputs": [
    {
     "data": {
      "text/plain": [
       "array(['B002-C003-0044', 'B002-C003-0042', 'B002-C003-0043'], dtype=object)"
      ]
     },
     "execution_count": 26,
     "metadata": {},
     "output_type": "execute_result"
    }
   ],
   "source": [
    "sales3_1['소분류'].unique()"
   ]
  },
  {
   "cell_type": "code",
   "execution_count": 27,
   "id": "c8943d37",
   "metadata": {},
   "outputs": [
    {
     "data": {
      "text/plain": [
       "array(['B002-C003-0050'], dtype=object)"
      ]
     },
     "execution_count": 27,
     "metadata": {},
     "output_type": "execute_result"
    }
   ],
   "source": [
    "sales3_2['소분류'].unique()"
   ]
  },
  {
   "cell_type": "code",
   "execution_count": 28,
   "id": "beffb18b",
   "metadata": {},
   "outputs": [
    {
     "data": {
      "text/plain": [
       "array(['B002-C003-0045', 'B002-C003-0046', 'B002-C003-0047',\n",
       "       'B002-C003-0048', 'B002-C003-0049', 'B002-C003-0051'], dtype=object)"
      ]
     },
     "execution_count": 28,
     "metadata": {},
     "output_type": "execute_result"
    }
   ],
   "source": [
    "sales4_1['소분류'].unique()"
   ]
  },
  {
   "cell_type": "code",
   "execution_count": 29,
   "id": "7f74e232",
   "metadata": {},
   "outputs": [
    {
     "data": {
      "text/plain": [
       "array(['B002-C003-0052', 'B002-C003-0053'], dtype=object)"
      ]
     },
     "execution_count": 29,
     "metadata": {},
     "output_type": "execute_result"
    }
   ],
   "source": [
    "sales5_1['소분류'].unique()"
   ]
  },
  {
   "cell_type": "code",
   "execution_count": 30,
   "id": "a9520b44",
   "metadata": {},
   "outputs": [],
   "source": [
    "sales1_1_1=sales[sales['소분류']=='B002-C003-0001']\n",
    "sales1_1_2=sales[sales['소분류']=='B002-C003-0002']\n",
    "sales1_1_3=sales[sales['소분류']=='B002-C003-0003']\n",
    "sales1_1_4=sales[sales['소분류']=='B002-C003-0004']\n",
    "sales1_1_5=sales[sales['소분류']=='B002-C003-0005']\n",
    "\n",
    "sales1_2_1=sales[sales['소분류']=='B002-C003-0045']\n",
    "sales1_2_2=sales[sales['소분류']=='B002-C003-0046']\n",
    "sales1_2_3=sales[sales['소분류']=='B002-C003-0047']\n",
    "sales1_2_4=sales[sales['소분류']=='B002-C003-0048']\n",
    "sales1_2_5=sales[sales['소분류']=='B002-C003-0049']\n",
    "sales1_2_6=sales[sales['소분류']=='B002-C003-0051']\n",
    "\n",
    "sales2_1_1=sales[sales['소분류']=='B002-C003-0006']\n",
    "sales2_1_2=sales[sales['소분류']=='B002-C003-0007']\n",
    "sales2_1_3=sales[sales['소분류']=='B002-C003-0008']\n",
    "sales2_1_4=sales[sales['소분류']=='B002-C003-0009']\n",
    "sales2_1_5=sales[sales['소분류']=='B002-C003-0010']\n",
    "sales2_1_6=sales[sales['소분류']=='B002-C003-0011']\n",
    "\n",
    "sales2_2_1=sales[sales['소분류']=='B002-C003-0012']\n",
    "sales2_2_2=sales[sales['소분류']=='B002-C003-0013']\n",
    "sales2_2_3=sales[sales['소분류']=='B002-C003-0014']\n",
    "sales2_2_4=sales[sales['소분류']=='B002-C003-0015']\n",
    "sales2_2_5=sales[sales['소분류']=='B002-C003-0016']\n",
    "sales2_2_6=sales[sales['소분류']=='B002-C003-0017']\n",
    "sales2_2_7=sales[sales['소분류']=='B002-C003-0018']\n",
    "\n",
    "sales2_3_1=sales[sales['소분류']=='B002-C003-0019']\n",
    "sales2_3_2=sales[sales['소분류']=='B002-C003-0020']\n",
    "sales2_3_3=sales[sales['소분류']=='B002-C003-0021']\n",
    "sales2_3_4=sales[sales['소분류']=='B002-C003-0022']\n",
    "sales2_3_5=sales[sales['소분류']=='B002-C003-0023']\n",
    "\n",
    "sales2_4_1=sales[sales['소분류']=='B002-C003-0024']\n",
    "sales2_4_2=sales[sales['소분류']=='B002-C003-0025']\n",
    "sales2_4_3=sales[sales['소분류']=='B002-C003-0026']\n",
    "sales2_4_4=sales[sales['소분류']=='B002-C003-0027']\n",
    "sales2_4_5=sales[sales['소분류']=='B002-C003-0028']\n",
    "sales2_4_6=sales[sales['소분류']=='B002-C003-0029']\n",
    "sales2_4_7=sales[sales['소분류']=='B002-C003-0041']\n",
    "\n",
    "sales2_5_1=sales[sales['소분류']=='B002-C003-0030']\n",
    "sales2_5_2=sales[sales['소분류']=='B002-C003-0031']\n",
    "sales2_5_3=sales[sales['소분류']=='B002-C003-0032']\n",
    "sales2_5_4=sales[sales['소분류']=='B002-C003-0033']\n",
    "sales2_5_5=sales[sales['소분류']=='B002-C003-0034']\n",
    "\n",
    "sales2_6_1=sales[sales['소분류']=='B002-C003-0035']\n",
    "sales2_6_2=sales[sales['소분류']=='B002-C003-0036']\n",
    "sales2_6_3=sales[sales['소분류']=='B002-C003-0037']\n",
    "sales2_6_4=sales[sales['소분류']=='B002-C003-0038']\n",
    "sales2_6_5=sales[sales['소분류']=='B002-C003-0039']\n",
    "sales2_6_6=sales[sales['소분류']=='B002-C003-0040']\n",
    "\n",
    "sales2_7_1=sales[sales['소분류']=='B002-C003-0045']\n",
    "sales2_7_2=sales[sales['소분류']=='B002-C003-0046']\n",
    "sales2_7_3=sales[sales['소분류']=='B002-C003-0047']\n",
    "sales2_7_4=sales[sales['소분류']=='B002-C003-0048']\n",
    "sales2_7_5=sales[sales['소분류']=='B002-C003-0049']\n",
    "sales2_7_6=sales[sales['소분류']=='B002-C003-0051']\n",
    "\n",
    "sales3_1_1=sales[sales['소분류']=='B002-C003-0042']\n",
    "sales3_1_2=sales[sales['소분류']=='B002-C003-0043']\n",
    "sales3_1_3=sales[sales['소분류']=='B002-C003-0044']\n",
    "\n",
    "sales3_2_1=sales[sales['소분류']=='B002-C003-0050']\n",
    "\n",
    "sales4_1_1=sales[sales['소분류']=='B002-C003-0045']\n",
    "sales4_1_2=sales[sales['소분류']=='B002-C003-0046']\n",
    "sales4_1_3=sales[sales['소분류']=='B002-C003-0047']\n",
    "sales4_1_4=sales[sales['소분류']=='B002-C003-0048']\n",
    "sales4_1_5=sales[sales['소분류']=='B002-C003-0049']\n",
    "sales4_1_6=sales[sales['소분류']=='B002-C003-0051']\n",
    "\n",
    "sales5_1_1=sales[sales['소분류']=='B002-C003-0052']\n",
    "sales5_1_2=sales[sales['소분류']=='B002-C003-0053']"
   ]
  },
  {
   "cell_type": "code",
   "execution_count": 31,
   "id": "b05a4ad0",
   "metadata": {
    "scrolled": false
   },
   "outputs": [
    {
     "data": {
      "text/html": [
       "<div>\n",
       "<style scoped>\n",
       "    .dataframe tbody tr th:only-of-type {\n",
       "        vertical-align: middle;\n",
       "    }\n",
       "\n",
       "    .dataframe tbody tr th {\n",
       "        vertical-align: top;\n",
       "    }\n",
       "\n",
       "    .dataframe thead th {\n",
       "        text-align: right;\n",
       "    }\n",
       "</style>\n",
       "<table border=\"1\" class=\"dataframe\">\n",
       "  <thead>\n",
       "    <tr style=\"text-align: right;\">\n",
       "      <th></th>\n",
       "      <th>제품</th>\n",
       "      <th>제품특성</th>\n",
       "    </tr>\n",
       "  </thead>\n",
       "  <tbody>\n",
       "    <tr>\n",
       "      <th>0</th>\n",
       "      <td>B002-03509-00001</td>\n",
       "      <td>제품유형:일반식품 콜라겐 펩타이드:1000mg 종류:어류 분자량:300Da 섭취대상...</td>\n",
       "    </tr>\n",
       "    <tr>\n",
       "      <th>1</th>\n",
       "      <td>B002-02376-00001</td>\n",
       "      <td>700mg x 28정</td>\n",
       "    </tr>\n",
       "    <tr>\n",
       "      <th>2</th>\n",
       "      <td>B002-03735-00001</td>\n",
       "      <td>제품타입:정 섭취방법:물과 함께 섭취대상:성인남녀 섭취횟수:하루 두 번 1일 총 섭...</td>\n",
       "    </tr>\n",
       "    <tr>\n",
       "      <th>3</th>\n",
       "      <td>B002-03735-00003</td>\n",
       "      <td>제품타입:정 섭취방법:물과 함께 섭취대상:성인남녀 섭취횟수:하루 한 번 1일 총 섭...</td>\n",
       "    </tr>\n",
       "    <tr>\n",
       "      <th>4</th>\n",
       "      <td>B002-02769-00001</td>\n",
       "      <td>HCA:900mg 영양소 원료명(식약처고시):비타민B1 영양소 원료명(식약처고시):...</td>\n",
       "    </tr>\n",
       "    <tr>\n",
       "      <th>...</th>\n",
       "      <td>...</td>\n",
       "      <td>...</td>\n",
       "    </tr>\n",
       "    <tr>\n",
       "      <th>12773</th>\n",
       "      <td>B002-01994-00001</td>\n",
       "      <td>형태:액상형 구성:리필 등급:1종 용도:식기 용도:과일 용도:야채 용도:조리기구 용...</td>\n",
       "    </tr>\n",
       "    <tr>\n",
       "      <th>12774</th>\n",
       "      <td>B002-02600-00002</td>\n",
       "      <td>헤어타입:모든 모발용 주요제품특징:머릿결개선 세부제품특징:촉촉함(수분공급) 세부제품...</td>\n",
       "    </tr>\n",
       "    <tr>\n",
       "      <th>12775</th>\n",
       "      <td>B002-02372-00095</td>\n",
       "      <td>사용대상:여성용 타입:일자형 흡수량:20ml :1팩 32개</td>\n",
       "    </tr>\n",
       "    <tr>\n",
       "      <th>12776</th>\n",
       "      <td>B002-01318-00002</td>\n",
       "      <td>피부타입:모든피부용 향계열:무향 주요제품특징:촉촉함(수분공급) 주요제품특징:풍부한 ...</td>\n",
       "    </tr>\n",
       "    <tr>\n",
       "      <th>12777</th>\n",
       "      <td>B002-02473-00064</td>\n",
       "      <td>최소연령:4개월 단계별:2단계 종류:일반분유 제품형태:분말 포장형태:캔 용량:800...</td>\n",
       "    </tr>\n",
       "  </tbody>\n",
       "</table>\n",
       "<p>12778 rows × 2 columns</p>\n",
       "</div>"
      ],
      "text/plain": [
       "                     제품                                               제품특성\n",
       "0      B002-03509-00001  제품유형:일반식품 콜라겐 펩타이드:1000mg 종류:어류 분자량:300Da 섭취대상...\n",
       "1      B002-02376-00001                                        700mg x 28정\n",
       "2      B002-03735-00001  제품타입:정 섭취방법:물과 함께 섭취대상:성인남녀 섭취횟수:하루 두 번 1일 총 섭...\n",
       "3      B002-03735-00003  제품타입:정 섭취방법:물과 함께 섭취대상:성인남녀 섭취횟수:하루 한 번 1일 총 섭...\n",
       "4      B002-02769-00001  HCA:900mg 영양소 원료명(식약처고시):비타민B1 영양소 원료명(식약처고시):...\n",
       "...                 ...                                                ...\n",
       "12773  B002-01994-00001  형태:액상형 구성:리필 등급:1종 용도:식기 용도:과일 용도:야채 용도:조리기구 용...\n",
       "12774  B002-02600-00002  헤어타입:모든 모발용 주요제품특징:머릿결개선 세부제품특징:촉촉함(수분공급) 세부제품...\n",
       "12775  B002-02372-00095                   사용대상:여성용 타입:일자형 흡수량:20ml :1팩 32개\n",
       "12776  B002-01318-00002  피부타입:모든피부용 향계열:무향 주요제품특징:촉촉함(수분공급) 주요제품특징:풍부한 ...\n",
       "12777  B002-02473-00064  최소연령:4개월 단계별:2단계 종류:일반분유 제품형태:분말 포장형태:캔 용량:800...\n",
       "\n",
       "[12778 rows x 2 columns]"
      ]
     },
     "execution_count": 31,
     "metadata": {},
     "output_type": "execute_result"
    }
   ],
   "source": [
    "product_info"
   ]
  },
  {
   "cell_type": "code",
   "execution_count": 32,
   "id": "6638e7c7",
   "metadata": {},
   "outputs": [
    {
     "data": {
      "text/html": [
       "<div>\n",
       "<style scoped>\n",
       "    .dataframe tbody tr th:only-of-type {\n",
       "        vertical-align: middle;\n",
       "    }\n",
       "\n",
       "    .dataframe tbody tr th {\n",
       "        vertical-align: top;\n",
       "    }\n",
       "\n",
       "    .dataframe thead th {\n",
       "        text-align: right;\n",
       "    }\n",
       "</style>\n",
       "<table border=\"1\" class=\"dataframe\">\n",
       "  <thead>\n",
       "    <tr style=\"text-align: right;\">\n",
       "      <th></th>\n",
       "      <th>ID</th>\n",
       "      <th>제품</th>\n",
       "      <th>대분류</th>\n",
       "      <th>중분류</th>\n",
       "      <th>소분류</th>\n",
       "      <th>브랜드</th>\n",
       "      <th>2022-01-01</th>\n",
       "      <th>2022-01-02</th>\n",
       "      <th>2022-01-03</th>\n",
       "      <th>2022-01-04</th>\n",
       "      <th>...</th>\n",
       "      <th>2023-03-26</th>\n",
       "      <th>2023-03-27</th>\n",
       "      <th>2023-03-28</th>\n",
       "      <th>2023-03-29</th>\n",
       "      <th>2023-03-30</th>\n",
       "      <th>2023-03-31</th>\n",
       "      <th>2023-04-01</th>\n",
       "      <th>2023-04-02</th>\n",
       "      <th>2023-04-03</th>\n",
       "      <th>2023-04-04</th>\n",
       "    </tr>\n",
       "  </thead>\n",
       "  <tbody>\n",
       "    <tr>\n",
       "      <th>30</th>\n",
       "      <td>30</td>\n",
       "      <td>B002-00008-00001</td>\n",
       "      <td>B002-C001-0001</td>\n",
       "      <td>B002-C002-0001</td>\n",
       "      <td>B002-C003-0001</td>\n",
       "      <td>B002-00008</td>\n",
       "      <td>0</td>\n",
       "      <td>0</td>\n",
       "      <td>43800</td>\n",
       "      <td>58700</td>\n",
       "      <td>...</td>\n",
       "      <td>0</td>\n",
       "      <td>0</td>\n",
       "      <td>0</td>\n",
       "      <td>0</td>\n",
       "      <td>0</td>\n",
       "      <td>12900</td>\n",
       "      <td>22900</td>\n",
       "      <td>22900</td>\n",
       "      <td>22900</td>\n",
       "      <td>0</td>\n",
       "    </tr>\n",
       "    <tr>\n",
       "      <th>75</th>\n",
       "      <td>75</td>\n",
       "      <td>B002-00035-00001</td>\n",
       "      <td>B002-C001-0001</td>\n",
       "      <td>B002-C002-0001</td>\n",
       "      <td>B002-C003-0001</td>\n",
       "      <td>B002-00035</td>\n",
       "      <td>0</td>\n",
       "      <td>0</td>\n",
       "      <td>0</td>\n",
       "      <td>0</td>\n",
       "      <td>...</td>\n",
       "      <td>0</td>\n",
       "      <td>0</td>\n",
       "      <td>0</td>\n",
       "      <td>0</td>\n",
       "      <td>0</td>\n",
       "      <td>0</td>\n",
       "      <td>0</td>\n",
       "      <td>0</td>\n",
       "      <td>0</td>\n",
       "      <td>0</td>\n",
       "    </tr>\n",
       "    <tr>\n",
       "      <th>77</th>\n",
       "      <td>77</td>\n",
       "      <td>B002-00037-00001</td>\n",
       "      <td>B002-C001-0001</td>\n",
       "      <td>B002-C002-0001</td>\n",
       "      <td>B002-C003-0001</td>\n",
       "      <td>B002-00037</td>\n",
       "      <td>0</td>\n",
       "      <td>0</td>\n",
       "      <td>0</td>\n",
       "      <td>0</td>\n",
       "      <td>...</td>\n",
       "      <td>0</td>\n",
       "      <td>0</td>\n",
       "      <td>0</td>\n",
       "      <td>44400</td>\n",
       "      <td>0</td>\n",
       "      <td>0</td>\n",
       "      <td>59200</td>\n",
       "      <td>0</td>\n",
       "      <td>148000</td>\n",
       "      <td>59200</td>\n",
       "    </tr>\n",
       "    <tr>\n",
       "      <th>84</th>\n",
       "      <td>84</td>\n",
       "      <td>B002-00043-00001</td>\n",
       "      <td>B002-C001-0001</td>\n",
       "      <td>B002-C002-0001</td>\n",
       "      <td>B002-C003-0001</td>\n",
       "      <td>B002-00043</td>\n",
       "      <td>0</td>\n",
       "      <td>0</td>\n",
       "      <td>0</td>\n",
       "      <td>0</td>\n",
       "      <td>...</td>\n",
       "      <td>0</td>\n",
       "      <td>0</td>\n",
       "      <td>0</td>\n",
       "      <td>0</td>\n",
       "      <td>0</td>\n",
       "      <td>0</td>\n",
       "      <td>0</td>\n",
       "      <td>0</td>\n",
       "      <td>0</td>\n",
       "      <td>0</td>\n",
       "    </tr>\n",
       "    <tr>\n",
       "      <th>85</th>\n",
       "      <td>85</td>\n",
       "      <td>B002-00043-00002</td>\n",
       "      <td>B002-C001-0001</td>\n",
       "      <td>B002-C002-0001</td>\n",
       "      <td>B002-C003-0001</td>\n",
       "      <td>B002-00043</td>\n",
       "      <td>0</td>\n",
       "      <td>0</td>\n",
       "      <td>0</td>\n",
       "      <td>0</td>\n",
       "      <td>...</td>\n",
       "      <td>0</td>\n",
       "      <td>0</td>\n",
       "      <td>23900</td>\n",
       "      <td>23900</td>\n",
       "      <td>23900</td>\n",
       "      <td>23900</td>\n",
       "      <td>23900</td>\n",
       "      <td>47800</td>\n",
       "      <td>23900</td>\n",
       "      <td>23900</td>\n",
       "    </tr>\n",
       "    <tr>\n",
       "      <th>...</th>\n",
       "      <td>...</td>\n",
       "      <td>...</td>\n",
       "      <td>...</td>\n",
       "      <td>...</td>\n",
       "      <td>...</td>\n",
       "      <td>...</td>\n",
       "      <td>...</td>\n",
       "      <td>...</td>\n",
       "      <td>...</td>\n",
       "      <td>...</td>\n",
       "      <td>...</td>\n",
       "      <td>...</td>\n",
       "      <td>...</td>\n",
       "      <td>...</td>\n",
       "      <td>...</td>\n",
       "      <td>...</td>\n",
       "      <td>...</td>\n",
       "      <td>...</td>\n",
       "      <td>...</td>\n",
       "      <td>...</td>\n",
       "      <td>...</td>\n",
       "    </tr>\n",
       "    <tr>\n",
       "      <th>15765</th>\n",
       "      <td>15765</td>\n",
       "      <td>B002-03777-00002</td>\n",
       "      <td>B002-C001-0001</td>\n",
       "      <td>B002-C002-0001</td>\n",
       "      <td>B002-C003-0001</td>\n",
       "      <td>B002-03777</td>\n",
       "      <td>0</td>\n",
       "      <td>0</td>\n",
       "      <td>0</td>\n",
       "      <td>0</td>\n",
       "      <td>...</td>\n",
       "      <td>0</td>\n",
       "      <td>0</td>\n",
       "      <td>0</td>\n",
       "      <td>0</td>\n",
       "      <td>0</td>\n",
       "      <td>0</td>\n",
       "      <td>0</td>\n",
       "      <td>0</td>\n",
       "      <td>0</td>\n",
       "      <td>0</td>\n",
       "    </tr>\n",
       "    <tr>\n",
       "      <th>15766</th>\n",
       "      <td>15766</td>\n",
       "      <td>B002-03777-00003</td>\n",
       "      <td>B002-C001-0001</td>\n",
       "      <td>B002-C002-0001</td>\n",
       "      <td>B002-C003-0001</td>\n",
       "      <td>B002-03777</td>\n",
       "      <td>0</td>\n",
       "      <td>0</td>\n",
       "      <td>0</td>\n",
       "      <td>0</td>\n",
       "      <td>...</td>\n",
       "      <td>0</td>\n",
       "      <td>0</td>\n",
       "      <td>0</td>\n",
       "      <td>0</td>\n",
       "      <td>0</td>\n",
       "      <td>0</td>\n",
       "      <td>0</td>\n",
       "      <td>0</td>\n",
       "      <td>0</td>\n",
       "      <td>0</td>\n",
       "    </tr>\n",
       "    <tr>\n",
       "      <th>15805</th>\n",
       "      <td>15805</td>\n",
       "      <td>B002-03790-00001</td>\n",
       "      <td>B002-C001-0001</td>\n",
       "      <td>B002-C002-0001</td>\n",
       "      <td>B002-C003-0001</td>\n",
       "      <td>B002-03790</td>\n",
       "      <td>0</td>\n",
       "      <td>16400</td>\n",
       "      <td>0</td>\n",
       "      <td>8200</td>\n",
       "      <td>...</td>\n",
       "      <td>0</td>\n",
       "      <td>0</td>\n",
       "      <td>0</td>\n",
       "      <td>0</td>\n",
       "      <td>8900</td>\n",
       "      <td>8900</td>\n",
       "      <td>0</td>\n",
       "      <td>0</td>\n",
       "      <td>8900</td>\n",
       "      <td>26700</td>\n",
       "    </tr>\n",
       "    <tr>\n",
       "      <th>15829</th>\n",
       "      <td>15829</td>\n",
       "      <td>B002-03796-00011</td>\n",
       "      <td>B002-C001-0001</td>\n",
       "      <td>B002-C002-0001</td>\n",
       "      <td>B002-C003-0001</td>\n",
       "      <td>B002-03796</td>\n",
       "      <td>0</td>\n",
       "      <td>0</td>\n",
       "      <td>0</td>\n",
       "      <td>0</td>\n",
       "      <td>...</td>\n",
       "      <td>0</td>\n",
       "      <td>0</td>\n",
       "      <td>0</td>\n",
       "      <td>0</td>\n",
       "      <td>0</td>\n",
       "      <td>0</td>\n",
       "      <td>0</td>\n",
       "      <td>0</td>\n",
       "      <td>0</td>\n",
       "      <td>0</td>\n",
       "    </tr>\n",
       "    <tr>\n",
       "      <th>15830</th>\n",
       "      <td>15830</td>\n",
       "      <td>B002-03796-00012</td>\n",
       "      <td>B002-C001-0001</td>\n",
       "      <td>B002-C002-0001</td>\n",
       "      <td>B002-C003-0001</td>\n",
       "      <td>B002-03796</td>\n",
       "      <td>0</td>\n",
       "      <td>0</td>\n",
       "      <td>0</td>\n",
       "      <td>0</td>\n",
       "      <td>...</td>\n",
       "      <td>0</td>\n",
       "      <td>0</td>\n",
       "      <td>0</td>\n",
       "      <td>0</td>\n",
       "      <td>0</td>\n",
       "      <td>0</td>\n",
       "      <td>0</td>\n",
       "      <td>0</td>\n",
       "      <td>0</td>\n",
       "      <td>0</td>\n",
       "    </tr>\n",
       "  </tbody>\n",
       "</table>\n",
       "<p>751 rows × 465 columns</p>\n",
       "</div>"
      ],
      "text/plain": [
       "          ID                제품             대분류             중분류  \\\n",
       "30        30  B002-00008-00001  B002-C001-0001  B002-C002-0001   \n",
       "75        75  B002-00035-00001  B002-C001-0001  B002-C002-0001   \n",
       "77        77  B002-00037-00001  B002-C001-0001  B002-C002-0001   \n",
       "84        84  B002-00043-00001  B002-C001-0001  B002-C002-0001   \n",
       "85        85  B002-00043-00002  B002-C001-0001  B002-C002-0001   \n",
       "...      ...               ...             ...             ...   \n",
       "15765  15765  B002-03777-00002  B002-C001-0001  B002-C002-0001   \n",
       "15766  15766  B002-03777-00003  B002-C001-0001  B002-C002-0001   \n",
       "15805  15805  B002-03790-00001  B002-C001-0001  B002-C002-0001   \n",
       "15829  15829  B002-03796-00011  B002-C001-0001  B002-C002-0001   \n",
       "15830  15830  B002-03796-00012  B002-C001-0001  B002-C002-0001   \n",
       "\n",
       "                  소분류         브랜드  2022-01-01  2022-01-02  2022-01-03  \\\n",
       "30     B002-C003-0001  B002-00008           0           0       43800   \n",
       "75     B002-C003-0001  B002-00035           0           0           0   \n",
       "77     B002-C003-0001  B002-00037           0           0           0   \n",
       "84     B002-C003-0001  B002-00043           0           0           0   \n",
       "85     B002-C003-0001  B002-00043           0           0           0   \n",
       "...               ...         ...         ...         ...         ...   \n",
       "15765  B002-C003-0001  B002-03777           0           0           0   \n",
       "15766  B002-C003-0001  B002-03777           0           0           0   \n",
       "15805  B002-C003-0001  B002-03790           0       16400           0   \n",
       "15829  B002-C003-0001  B002-03796           0           0           0   \n",
       "15830  B002-C003-0001  B002-03796           0           0           0   \n",
       "\n",
       "       2022-01-04  ...  2023-03-26  2023-03-27  2023-03-28  2023-03-29  \\\n",
       "30          58700  ...           0           0           0           0   \n",
       "75              0  ...           0           0           0           0   \n",
       "77              0  ...           0           0           0       44400   \n",
       "84              0  ...           0           0           0           0   \n",
       "85              0  ...           0           0       23900       23900   \n",
       "...           ...  ...         ...         ...         ...         ...   \n",
       "15765           0  ...           0           0           0           0   \n",
       "15766           0  ...           0           0           0           0   \n",
       "15805        8200  ...           0           0           0           0   \n",
       "15829           0  ...           0           0           0           0   \n",
       "15830           0  ...           0           0           0           0   \n",
       "\n",
       "       2023-03-30  2023-03-31  2023-04-01  2023-04-02  2023-04-03  2023-04-04  \n",
       "30              0       12900       22900       22900       22900           0  \n",
       "75              0           0           0           0           0           0  \n",
       "77              0           0       59200           0      148000       59200  \n",
       "84              0           0           0           0           0           0  \n",
       "85          23900       23900       23900       47800       23900       23900  \n",
       "...           ...         ...         ...         ...         ...         ...  \n",
       "15765           0           0           0           0           0           0  \n",
       "15766           0           0           0           0           0           0  \n",
       "15805        8900        8900           0           0        8900       26700  \n",
       "15829           0           0           0           0           0           0  \n",
       "15830           0           0           0           0           0           0  \n",
       "\n",
       "[751 rows x 465 columns]"
      ]
     },
     "execution_count": 32,
     "metadata": {},
     "output_type": "execute_result"
    }
   ],
   "source": [
    "sales1_1_1"
   ]
  },
  {
   "cell_type": "code",
   "execution_count": 33,
   "id": "e79497c2",
   "metadata": {},
   "outputs": [],
   "source": [
    "sales1_1_1_m=pd.merge(sales1_1_1,product_info, on='제품', how='inner')\n",
    "sales1_1_2_m=pd.merge(sales1_1_2,product_info, on='제품', how='inner')\n",
    "sales1_1_3_m=pd.merge(sales1_1_3,product_info, on='제품', how='inner')\n",
    "sales1_1_4_m=pd.merge(sales1_1_4,product_info, on='제품', how='inner')\n",
    "sales1_1_5_m=pd.merge(sales1_1_5,product_info, on='제품', how='inner')\n",
    "\n",
    "sales1_2_1_m=pd.merge(sales1_2_1,product_info, on='제품', how='inner')\n",
    "sales1_2_2_m=pd.merge(sales1_2_2,product_info, on='제품', how='inner')\n",
    "sales1_2_3_m=pd.merge(sales1_2_3,product_info, on='제품', how='inner')\n",
    "sales1_2_4_m=pd.merge(sales1_2_4,product_info, on='제품', how='inner')\n",
    "sales1_2_5_m=pd.merge(sales1_2_5,product_info, on='제품', how='inner')\n",
    "sales1_2_6_m=pd.merge(sales1_2_6,product_info, on='제품', how='inner')\n",
    "\n",
    "sales2_1_1_m=pd.merge(sales2_1_1,product_info, on='제품', how='inner')\n",
    "sales2_1_2_m=pd.merge(sales2_1_2,product_info, on='제품', how='inner')\n",
    "sales2_1_3_m=pd.merge(sales2_1_3,product_info, on='제품', how='inner')\n",
    "sales2_1_4_m=pd.merge(sales2_1_4,product_info, on='제품', how='inner')\n",
    "sales2_1_5_m=pd.merge(sales2_1_5,product_info, on='제품', how='inner')\n",
    "sales2_1_6_m=pd.merge(sales2_1_6,product_info, on='제품', how='inner')\n",
    "\n",
    "sales2_2_1_m=pd.merge(sales2_2_1,product_info, on='제품', how='inner')\n",
    "sales2_2_2_m=pd.merge(sales2_2_2,product_info, on='제품', how='inner')\n",
    "sales2_2_3_m=pd.merge(sales2_2_3,product_info, on='제품', how='inner')\n",
    "sales2_2_4_m=pd.merge(sales2_2_4,product_info, on='제품', how='inner')\n",
    "sales2_2_5_m=pd.merge(sales2_2_5,product_info, on='제품', how='inner')\n",
    "sales2_2_6_m=pd.merge(sales2_2_6,product_info, on='제품', how='inner')\n",
    "sales2_2_7_m=pd.merge(sales2_2_7,product_info, on='제품', how='inner')\n",
    "\n",
    "sales2_3_1_m=pd.merge(sales2_3_1,product_info, on='제품', how='inner')\n",
    "sales2_3_2_m=pd.merge(sales2_3_2,product_info, on='제품', how='inner')\n",
    "sales2_3_3_m=pd.merge(sales2_3_3,product_info, on='제품', how='inner')\n",
    "sales2_3_4_m=pd.merge(sales2_3_4,product_info, on='제품', how='inner')\n",
    "sales2_3_5_m=pd.merge(sales2_3_5,product_info, on='제품', how='inner')\n",
    "\n",
    "sales2_4_1_m=pd.merge(sales2_4_1,product_info, on='제품', how='inner')\n",
    "sales2_4_2_m=pd.merge(sales2_4_2,product_info, on='제품', how='inner')\n",
    "sales2_4_3_m=pd.merge(sales2_4_3,product_info, on='제품', how='inner')\n",
    "sales2_4_4_m=pd.merge(sales2_4_4,product_info, on='제품', how='inner')\n",
    "sales2_4_5_m=pd.merge(sales2_4_5,product_info, on='제품', how='inner')\n",
    "sales2_4_6_m=pd.merge(sales2_4_6,product_info, on='제품', how='inner')\n",
    "sales2_4_7_m=pd.merge(sales2_4_7,product_info, on='제품', how='inner')\n",
    "\n",
    "sales2_5_1_m=pd.merge(sales2_5_1,product_info, on='제품', how='inner')\n",
    "sales2_5_2_m=pd.merge(sales2_5_2,product_info, on='제품', how='inner')\n",
    "sales2_5_3_m=pd.merge(sales2_5_3,product_info, on='제품', how='inner')\n",
    "sales2_5_4_m=pd.merge(sales2_5_4,product_info, on='제품', how='inner')\n",
    "sales2_5_5_m=pd.merge(sales2_5_5,product_info, on='제품', how='inner')\n",
    "\n",
    "sales2_6_1_m=pd.merge(sales2_6_1,product_info, on='제품', how='inner')\n",
    "sales2_6_2_m=pd.merge(sales2_6_2,product_info, on='제품', how='inner')\n",
    "sales2_6_3_m=pd.merge(sales2_6_3,product_info, on='제품', how='inner')\n",
    "sales2_6_4_m=pd.merge(sales2_6_4,product_info, on='제품', how='inner')\n",
    "sales2_6_5_m=pd.merge(sales2_6_5,product_info, on='제품', how='inner')\n",
    "sales2_6_6_m=pd.merge(sales2_6_6,product_info, on='제품', how='inner')\n",
    "\n",
    "sales2_7_1_m=pd.merge(sales2_7_1,product_info, on='제품', how='inner')\n",
    "sales2_7_2_m=pd.merge(sales2_7_2,product_info, on='제품', how='inner')\n",
    "sales2_7_3_m=pd.merge(sales2_7_3,product_info, on='제품', how='inner')\n",
    "sales2_7_4_m=pd.merge(sales2_7_4,product_info, on='제품', how='inner')\n",
    "sales2_7_5_m=pd.merge(sales2_7_5,product_info, on='제품', how='inner')\n",
    "sales2_7_6_m=pd.merge(sales2_7_6,product_info, on='제품', how='inner')\n",
    "\n",
    "sales3_1_1_m=pd.merge(sales3_1_1,product_info, on='제품', how='inner')\n",
    "sales3_1_2_m=pd.merge(sales3_1_2,product_info, on='제품', how='inner')\n",
    "sales3_1_3_m=pd.merge(sales3_1_3,product_info, on='제품', how='inner')\n",
    "\n",
    "sales3_2_1_m=pd.merge(sales3_2_1,product_info, on='제품', how='inner')\n",
    "\n",
    "sales4_1_1_m=pd.merge(sales4_1_1,product_info, on='제품', how='inner')\n",
    "sales4_1_2_m=pd.merge(sales4_1_2,product_info, on='제품', how='inner')\n",
    "sales4_1_3_m=pd.merge(sales4_1_3,product_info, on='제품', how='inner')\n",
    "sales4_1_4_m=pd.merge(sales4_1_4,product_info, on='제품', how='inner')\n",
    "sales4_1_5_m=pd.merge(sales4_1_5,product_info, on='제품', how='inner')\n",
    "sales4_1_6_m=pd.merge(sales4_1_6,product_info, on='제품', how='inner')\n",
    "\n",
    "\n",
    "sales5_1_1_m=pd.merge(sales5_1_1,product_info, on='제품', how='inner')\n",
    "sales5_1_2_m=pd.merge(sales5_1_2,product_info, on='제품', how='inner')"
   ]
  },
  {
   "cell_type": "code",
   "execution_count": 34,
   "id": "043c8a2b",
   "metadata": {
    "scrolled": true
   },
   "outputs": [
    {
     "data": {
      "text/html": [
       "<div>\n",
       "<style scoped>\n",
       "    .dataframe tbody tr th:only-of-type {\n",
       "        vertical-align: middle;\n",
       "    }\n",
       "\n",
       "    .dataframe tbody tr th {\n",
       "        vertical-align: top;\n",
       "    }\n",
       "\n",
       "    .dataframe thead th {\n",
       "        text-align: right;\n",
       "    }\n",
       "</style>\n",
       "<table border=\"1\" class=\"dataframe\">\n",
       "  <thead>\n",
       "    <tr style=\"text-align: right;\">\n",
       "      <th></th>\n",
       "      <th>ID</th>\n",
       "      <th>제품</th>\n",
       "      <th>대분류</th>\n",
       "      <th>중분류</th>\n",
       "      <th>소분류</th>\n",
       "      <th>브랜드</th>\n",
       "      <th>2022-01-01</th>\n",
       "      <th>2022-01-02</th>\n",
       "      <th>2022-01-03</th>\n",
       "      <th>2022-01-04</th>\n",
       "      <th>...</th>\n",
       "      <th>2023-03-27</th>\n",
       "      <th>2023-03-28</th>\n",
       "      <th>2023-03-29</th>\n",
       "      <th>2023-03-30</th>\n",
       "      <th>2023-03-31</th>\n",
       "      <th>2023-04-01</th>\n",
       "      <th>2023-04-02</th>\n",
       "      <th>2023-04-03</th>\n",
       "      <th>2023-04-04</th>\n",
       "      <th>제품특성</th>\n",
       "    </tr>\n",
       "  </thead>\n",
       "  <tbody>\n",
       "    <tr>\n",
       "      <th>0</th>\n",
       "      <td>156</td>\n",
       "      <td>B002-00067-00014</td>\n",
       "      <td>B002-C001-0002</td>\n",
       "      <td>B002-C002-0009</td>\n",
       "      <td>B002-C003-0045</td>\n",
       "      <td>B002-00067</td>\n",
       "      <td>40000</td>\n",
       "      <td>0</td>\n",
       "      <td>20000</td>\n",
       "      <td>20000</td>\n",
       "      <td>...</td>\n",
       "      <td>0</td>\n",
       "      <td>0</td>\n",
       "      <td>157280</td>\n",
       "      <td>196000</td>\n",
       "      <td>196000</td>\n",
       "      <td>137680</td>\n",
       "      <td>20080</td>\n",
       "      <td>0</td>\n",
       "      <td>89600</td>\n",
       "      <td>포장형태:펌프형 특징:수분공급 특징:영양공급 무첨가:무색소 무첨가:무알코올 무첨가:...</td>\n",
       "    </tr>\n",
       "    <tr>\n",
       "      <th>1</th>\n",
       "      <td>157</td>\n",
       "      <td>B002-00067-00015</td>\n",
       "      <td>B002-C001-0002</td>\n",
       "      <td>B002-C002-0009</td>\n",
       "      <td>B002-C003-0045</td>\n",
       "      <td>B002-00067</td>\n",
       "      <td>0</td>\n",
       "      <td>0</td>\n",
       "      <td>0</td>\n",
       "      <td>0</td>\n",
       "      <td>...</td>\n",
       "      <td>0</td>\n",
       "      <td>0</td>\n",
       "      <td>0</td>\n",
       "      <td>0</td>\n",
       "      <td>0</td>\n",
       "      <td>0</td>\n",
       "      <td>0</td>\n",
       "      <td>0</td>\n",
       "      <td>0</td>\n",
       "      <td>포장형태:튜브형 특징:피부진정 특징:수분공급 특징:피부장벽강화 무첨가:무색소 무첨가...</td>\n",
       "    </tr>\n",
       "    <tr>\n",
       "      <th>2</th>\n",
       "      <td>190</td>\n",
       "      <td>B002-00067-00048</td>\n",
       "      <td>B002-C001-0002</td>\n",
       "      <td>B002-C002-0009</td>\n",
       "      <td>B002-C003-0045</td>\n",
       "      <td>B002-00067</td>\n",
       "      <td>0</td>\n",
       "      <td>0</td>\n",
       "      <td>0</td>\n",
       "      <td>0</td>\n",
       "      <td>...</td>\n",
       "      <td>0</td>\n",
       "      <td>0</td>\n",
       "      <td>0</td>\n",
       "      <td>0</td>\n",
       "      <td>0</td>\n",
       "      <td>0</td>\n",
       "      <td>0</td>\n",
       "      <td>0</td>\n",
       "      <td>0</td>\n",
       "      <td>포장형태:펌프형 특징:수분공급 무첨가:무색소 무첨가:무파라벤 무첨가:무방부제 무첨가...</td>\n",
       "    </tr>\n",
       "    <tr>\n",
       "      <th>3</th>\n",
       "      <td>192</td>\n",
       "      <td>B002-00067-00050</td>\n",
       "      <td>B002-C001-0002</td>\n",
       "      <td>B002-C002-0009</td>\n",
       "      <td>B002-C003-0045</td>\n",
       "      <td>B002-00067</td>\n",
       "      <td>0</td>\n",
       "      <td>0</td>\n",
       "      <td>0</td>\n",
       "      <td>0</td>\n",
       "      <td>...</td>\n",
       "      <td>0</td>\n",
       "      <td>0</td>\n",
       "      <td>0</td>\n",
       "      <td>0</td>\n",
       "      <td>0</td>\n",
       "      <td>0</td>\n",
       "      <td>0</td>\n",
       "      <td>0</td>\n",
       "      <td>0</td>\n",
       "      <td>포장형태:튜브형 특징:수분공급 특징:영양공급 무첨가:무파라벤 무첨가:저자극 용량:2...</td>\n",
       "    </tr>\n",
       "    <tr>\n",
       "      <th>4</th>\n",
       "      <td>723</td>\n",
       "      <td>B002-00188-00001</td>\n",
       "      <td>B002-C001-0002</td>\n",
       "      <td>B002-C002-0009</td>\n",
       "      <td>B002-C003-0045</td>\n",
       "      <td>B002-00188</td>\n",
       "      <td>0</td>\n",
       "      <td>0</td>\n",
       "      <td>0</td>\n",
       "      <td>0</td>\n",
       "      <td>...</td>\n",
       "      <td>0</td>\n",
       "      <td>0</td>\n",
       "      <td>0</td>\n",
       "      <td>0</td>\n",
       "      <td>0</td>\n",
       "      <td>0</td>\n",
       "      <td>0</td>\n",
       "      <td>0</td>\n",
       "      <td>38000</td>\n",
       "      <td>포장형태:튜브형 특징:피부진정 특징:수분공급 특징:영양공급 특징:피부장벽강화 무첨가...</td>\n",
       "    </tr>\n",
       "    <tr>\n",
       "      <th>...</th>\n",
       "      <td>...</td>\n",
       "      <td>...</td>\n",
       "      <td>...</td>\n",
       "      <td>...</td>\n",
       "      <td>...</td>\n",
       "      <td>...</td>\n",
       "      <td>...</td>\n",
       "      <td>...</td>\n",
       "      <td>...</td>\n",
       "      <td>...</td>\n",
       "      <td>...</td>\n",
       "      <td>...</td>\n",
       "      <td>...</td>\n",
       "      <td>...</td>\n",
       "      <td>...</td>\n",
       "      <td>...</td>\n",
       "      <td>...</td>\n",
       "      <td>...</td>\n",
       "      <td>...</td>\n",
       "      <td>...</td>\n",
       "      <td>...</td>\n",
       "    </tr>\n",
       "    <tr>\n",
       "      <th>224</th>\n",
       "      <td>15178</td>\n",
       "      <td>B002-03622-00005</td>\n",
       "      <td>B002-C001-0002</td>\n",
       "      <td>B002-C002-0009</td>\n",
       "      <td>B002-C003-0045</td>\n",
       "      <td>B002-03622</td>\n",
       "      <td>50730</td>\n",
       "      <td>33820</td>\n",
       "      <td>33820</td>\n",
       "      <td>0</td>\n",
       "      <td>...</td>\n",
       "      <td>0</td>\n",
       "      <td>0</td>\n",
       "      <td>229300</td>\n",
       "      <td>268860</td>\n",
       "      <td>0</td>\n",
       "      <td>225720</td>\n",
       "      <td>266860</td>\n",
       "      <td>269220</td>\n",
       "      <td>223720</td>\n",
       "      <td>포장형태:펌프형 특징:피부진정 특징:수분공급 특징:피부유연 특징:영양공급 특징:피부...</td>\n",
       "    </tr>\n",
       "    <tr>\n",
       "      <th>225</th>\n",
       "      <td>15182</td>\n",
       "      <td>B002-03622-00009</td>\n",
       "      <td>B002-C001-0002</td>\n",
       "      <td>B002-C002-0009</td>\n",
       "      <td>B002-C003-0045</td>\n",
       "      <td>B002-03622</td>\n",
       "      <td>252160</td>\n",
       "      <td>189120</td>\n",
       "      <td>126080</td>\n",
       "      <td>86040</td>\n",
       "      <td>...</td>\n",
       "      <td>0</td>\n",
       "      <td>0</td>\n",
       "      <td>119600</td>\n",
       "      <td>104000</td>\n",
       "      <td>36400</td>\n",
       "      <td>124800</td>\n",
       "      <td>0</td>\n",
       "      <td>83200</td>\n",
       "      <td>161200</td>\n",
       "      <td>포장형태:캡형 특징:피부진정 특징:수분공급 특징:피부유연 특징:영양공급 특징:피부장...</td>\n",
       "    </tr>\n",
       "    <tr>\n",
       "      <th>226</th>\n",
       "      <td>15183</td>\n",
       "      <td>B002-03622-00010</td>\n",
       "      <td>B002-C001-0002</td>\n",
       "      <td>B002-C002-0009</td>\n",
       "      <td>B002-C003-0045</td>\n",
       "      <td>B002-03622</td>\n",
       "      <td>89600</td>\n",
       "      <td>64000</td>\n",
       "      <td>51200</td>\n",
       "      <td>38400</td>\n",
       "      <td>...</td>\n",
       "      <td>0</td>\n",
       "      <td>0</td>\n",
       "      <td>0</td>\n",
       "      <td>0</td>\n",
       "      <td>0</td>\n",
       "      <td>0</td>\n",
       "      <td>0</td>\n",
       "      <td>0</td>\n",
       "      <td>0</td>\n",
       "      <td>포장형태:튜브형 특징:피부진정 특징:수분공급 특징:피부유연 특징:피부장벽강화 무첨가...</td>\n",
       "    </tr>\n",
       "    <tr>\n",
       "      <th>227</th>\n",
       "      <td>15251</td>\n",
       "      <td>B002-03636-00001</td>\n",
       "      <td>B002-C001-0002</td>\n",
       "      <td>B002-C002-0009</td>\n",
       "      <td>B002-C003-0045</td>\n",
       "      <td>B002-03636</td>\n",
       "      <td>0</td>\n",
       "      <td>0</td>\n",
       "      <td>0</td>\n",
       "      <td>0</td>\n",
       "      <td>...</td>\n",
       "      <td>0</td>\n",
       "      <td>0</td>\n",
       "      <td>42900</td>\n",
       "      <td>21450</td>\n",
       "      <td>64350</td>\n",
       "      <td>0</td>\n",
       "      <td>0</td>\n",
       "      <td>150150</td>\n",
       "      <td>128700</td>\n",
       "      <td>포장형태:펌프형 특징:수분공급 특징:피부유연 무첨가:무색소 무첨가:무알코올 무첨가:...</td>\n",
       "    </tr>\n",
       "    <tr>\n",
       "      <th>228</th>\n",
       "      <td>15457</td>\n",
       "      <td>B002-03687-00011</td>\n",
       "      <td>B002-C001-0002</td>\n",
       "      <td>B002-C002-0009</td>\n",
       "      <td>B002-C003-0045</td>\n",
       "      <td>B002-03687</td>\n",
       "      <td>0</td>\n",
       "      <td>0</td>\n",
       "      <td>0</td>\n",
       "      <td>0</td>\n",
       "      <td>...</td>\n",
       "      <td>0</td>\n",
       "      <td>0</td>\n",
       "      <td>0</td>\n",
       "      <td>0</td>\n",
       "      <td>0</td>\n",
       "      <td>0</td>\n",
       "      <td>0</td>\n",
       "      <td>0</td>\n",
       "      <td>0</td>\n",
       "      <td>연령연령연령연령연령포장형태특징특징특징특징무첨가무첨가타켓연령:3세, 연령연령연령연령연...</td>\n",
       "    </tr>\n",
       "  </tbody>\n",
       "</table>\n",
       "<p>229 rows × 466 columns</p>\n",
       "</div>"
      ],
      "text/plain": [
       "        ID                제품             대분류             중분류             소분류  \\\n",
       "0      156  B002-00067-00014  B002-C001-0002  B002-C002-0009  B002-C003-0045   \n",
       "1      157  B002-00067-00015  B002-C001-0002  B002-C002-0009  B002-C003-0045   \n",
       "2      190  B002-00067-00048  B002-C001-0002  B002-C002-0009  B002-C003-0045   \n",
       "3      192  B002-00067-00050  B002-C001-0002  B002-C002-0009  B002-C003-0045   \n",
       "4      723  B002-00188-00001  B002-C001-0002  B002-C002-0009  B002-C003-0045   \n",
       "..     ...               ...             ...             ...             ...   \n",
       "224  15178  B002-03622-00005  B002-C001-0002  B002-C002-0009  B002-C003-0045   \n",
       "225  15182  B002-03622-00009  B002-C001-0002  B002-C002-0009  B002-C003-0045   \n",
       "226  15183  B002-03622-00010  B002-C001-0002  B002-C002-0009  B002-C003-0045   \n",
       "227  15251  B002-03636-00001  B002-C001-0002  B002-C002-0009  B002-C003-0045   \n",
       "228  15457  B002-03687-00011  B002-C001-0002  B002-C002-0009  B002-C003-0045   \n",
       "\n",
       "            브랜드  2022-01-01  2022-01-02  2022-01-03  2022-01-04  ...  \\\n",
       "0    B002-00067       40000           0       20000       20000  ...   \n",
       "1    B002-00067           0           0           0           0  ...   \n",
       "2    B002-00067           0           0           0           0  ...   \n",
       "3    B002-00067           0           0           0           0  ...   \n",
       "4    B002-00188           0           0           0           0  ...   \n",
       "..          ...         ...         ...         ...         ...  ...   \n",
       "224  B002-03622       50730       33820       33820           0  ...   \n",
       "225  B002-03622      252160      189120      126080       86040  ...   \n",
       "226  B002-03622       89600       64000       51200       38400  ...   \n",
       "227  B002-03636           0           0           0           0  ...   \n",
       "228  B002-03687           0           0           0           0  ...   \n",
       "\n",
       "     2023-03-27  2023-03-28  2023-03-29  2023-03-30  2023-03-31  2023-04-01  \\\n",
       "0             0           0      157280      196000      196000      137680   \n",
       "1             0           0           0           0           0           0   \n",
       "2             0           0           0           0           0           0   \n",
       "3             0           0           0           0           0           0   \n",
       "4             0           0           0           0           0           0   \n",
       "..          ...         ...         ...         ...         ...         ...   \n",
       "224           0           0      229300      268860           0      225720   \n",
       "225           0           0      119600      104000       36400      124800   \n",
       "226           0           0           0           0           0           0   \n",
       "227           0           0       42900       21450       64350           0   \n",
       "228           0           0           0           0           0           0   \n",
       "\n",
       "     2023-04-02  2023-04-03  2023-04-04  \\\n",
       "0         20080           0       89600   \n",
       "1             0           0           0   \n",
       "2             0           0           0   \n",
       "3             0           0           0   \n",
       "4             0           0       38000   \n",
       "..          ...         ...         ...   \n",
       "224      266860      269220      223720   \n",
       "225           0       83200      161200   \n",
       "226           0           0           0   \n",
       "227           0      150150      128700   \n",
       "228           0           0           0   \n",
       "\n",
       "                                                  제품특성  \n",
       "0    포장형태:펌프형 특징:수분공급 특징:영양공급 무첨가:무색소 무첨가:무알코올 무첨가:...  \n",
       "1    포장형태:튜브형 특징:피부진정 특징:수분공급 특징:피부장벽강화 무첨가:무색소 무첨가...  \n",
       "2    포장형태:펌프형 특징:수분공급 무첨가:무색소 무첨가:무파라벤 무첨가:무방부제 무첨가...  \n",
       "3    포장형태:튜브형 특징:수분공급 특징:영양공급 무첨가:무파라벤 무첨가:저자극 용량:2...  \n",
       "4    포장형태:튜브형 특징:피부진정 특징:수분공급 특징:영양공급 특징:피부장벽강화 무첨가...  \n",
       "..                                                 ...  \n",
       "224  포장형태:펌프형 특징:피부진정 특징:수분공급 특징:피부유연 특징:영양공급 특징:피부...  \n",
       "225  포장형태:캡형 특징:피부진정 특징:수분공급 특징:피부유연 특징:영양공급 특징:피부장...  \n",
       "226  포장형태:튜브형 특징:피부진정 특징:수분공급 특징:피부유연 특징:피부장벽강화 무첨가...  \n",
       "227  포장형태:펌프형 특징:수분공급 특징:피부유연 무첨가:무색소 무첨가:무알코올 무첨가:...  \n",
       "228  연령연령연령연령연령포장형태특징특징특징특징무첨가무첨가타켓연령:3세, 연령연령연령연령연...  \n",
       "\n",
       "[229 rows x 466 columns]"
      ]
     },
     "execution_count": 34,
     "metadata": {},
     "output_type": "execute_result"
    }
   ],
   "source": [
    "sales2_7_1_m"
   ]
  },
  {
   "cell_type": "code",
   "execution_count": 35,
   "id": "b22c8e08",
   "metadata": {},
   "outputs": [],
   "source": [
    "total=pd.concat([sales1_1_1_m,sales1_1_2_m, sales2_1_1_m])"
   ]
  }
 ],
 "metadata": {
  "kernelspec": {
   "display_name": "Python 3 (ipykernel)",
   "language": "python",
   "name": "python3"
  },
  "language_info": {
   "codemirror_mode": {
    "name": "ipython",
    "version": 3
   },
   "file_extension": ".py",
   "mimetype": "text/x-python",
   "name": "python",
   "nbconvert_exporter": "python",
   "pygments_lexer": "ipython3",
   "version": "3.9.13"
  }
 },
 "nbformat": 4,
 "nbformat_minor": 5
}
